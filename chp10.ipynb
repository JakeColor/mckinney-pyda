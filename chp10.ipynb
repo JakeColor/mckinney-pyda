{
 "cells": [
  {
   "cell_type": "code",
   "execution_count": 1,
   "metadata": {
    "collapsed": true
   },
   "outputs": [],
   "source": [
    "import numpy as np\n",
    "import pandas as pd\n",
    "from pandas import Series, DataFrame\n",
    "\n",
    "import datetime"
   ]
  },
  {
   "cell_type": "code",
   "execution_count": 76,
   "metadata": {
    "collapsed": true
   },
   "outputs": [],
   "source": [
    "%matplotlib inline"
   ]
  },
  {
   "cell_type": "code",
   "execution_count": 81,
   "metadata": {
    "collapsed": true
   },
   "outputs": [],
   "source": [
    "import matplotlib.pyplot as plt"
   ]
  },
  {
   "cell_type": "code",
   "execution_count": 2,
   "metadata": {
    "collapsed": false
   },
   "outputs": [
    {
     "data": {
      "text/plain": [
       "datetime.datetime(2015, 10, 13, 17, 25, 45, 376009)"
      ]
     },
     "execution_count": 2,
     "metadata": {},
     "output_type": "execute_result"
    }
   ],
   "source": [
    "from datetime import datetime\n",
    "\n",
    "now = datetime.now()\n",
    "\n",
    "now"
   ]
  },
  {
   "cell_type": "code",
   "execution_count": 3,
   "metadata": {
    "collapsed": false
   },
   "outputs": [
    {
     "data": {
      "text/plain": [
       "(2015, 13, 376009)"
      ]
     },
     "execution_count": 3,
     "metadata": {},
     "output_type": "execute_result"
    }
   ],
   "source": [
    "now.year, now.day, now.microsecond"
   ]
  },
  {
   "cell_type": "code",
   "execution_count": 5,
   "metadata": {
    "collapsed": false
   },
   "outputs": [
    {
     "data": {
      "text/plain": [
       "datetime.timedelta(2412, 62745, 376009)"
      ]
     },
     "execution_count": 5,
     "metadata": {},
     "output_type": "execute_result"
    }
   ],
   "source": [
    "delta = now - datetime(2009, 3, 6)\n",
    "delta"
   ]
  },
  {
   "cell_type": "code",
   "execution_count": 6,
   "metadata": {
    "collapsed": false
   },
   "outputs": [
    {
     "data": {
      "text/plain": [
       "datetime.datetime(2015, 10, 1, 17, 25, 45, 376009)"
      ]
     },
     "execution_count": 6,
     "metadata": {},
     "output_type": "execute_result"
    }
   ],
   "source": [
    "from datetime import timedelta\n",
    "\n",
    "now - timedelta(12) #automatically days..."
   ]
  },
  {
   "cell_type": "code",
   "execution_count": 7,
   "metadata": {
    "collapsed": false
   },
   "outputs": [
    {
     "data": {
      "text/plain": [
       "datetime.datetime(2009, 3, 6, 0, 0)"
      ]
     },
     "execution_count": 7,
     "metadata": {},
     "output_type": "execute_result"
    }
   ],
   "source": [
    "datetime.strptime('2009-03-06', '%Y-%m-%d')"
   ]
  },
  {
   "cell_type": "code",
   "execution_count": 8,
   "metadata": {
    "collapsed": false
   },
   "outputs": [
    {
     "data": {
      "text/plain": [
       "datetime.datetime(2011, 12, 6, 0, 0)"
      ]
     },
     "execution_count": 8,
     "metadata": {},
     "output_type": "execute_result"
    }
   ],
   "source": [
    "from dateutil.parser import parse\n",
    "\n",
    "parse('6/12/2011', dayfirst=True)"
   ]
  },
  {
   "cell_type": "code",
   "execution_count": 9,
   "metadata": {
    "collapsed": false
   },
   "outputs": [
    {
     "data": {
      "text/plain": [
       "2011-01-02   -0.711421\n",
       "2011-01-05    0.251988\n",
       "2011-01-07   -0.965395\n",
       "2011-01-08   -1.133927\n",
       "2011-01-10    0.715659\n",
       "2011-01-12   -2.411587\n",
       "dtype: float64"
      ]
     },
     "execution_count": 9,
     "metadata": {},
     "output_type": "execute_result"
    }
   ],
   "source": [
    "dates = [datetime(2011, 1, 2), datetime(2011, 1, 5), datetime(2011, 1, 7), datetime(2011, 1, 8),\n",
    "         datetime(2011, 1, 10), datetime(2011, 1, 12)]\n",
    "\n",
    "ts = Series(np.random.randn(6), index=dates)\n",
    "\n",
    "ts"
   ]
  },
  {
   "cell_type": "code",
   "execution_count": 10,
   "metadata": {
    "collapsed": false
   },
   "outputs": [
    {
     "data": {
      "text/plain": [
       "365"
      ]
     },
     "execution_count": 10,
     "metadata": {},
     "output_type": "execute_result"
    }
   ],
   "source": [
    "longer_ts = Series(np.random.randn(1000), index=pd.date_range('1/1/2000', periods=1000))\n",
    "\n",
    "len(longer_ts['2001'])"
   ]
  },
  {
   "cell_type": "code",
   "execution_count": 12,
   "metadata": {
    "collapsed": false
   },
   "outputs": [
    {
     "data": {
      "text/plain": [
       "2001-01-27   -0.041975\n",
       "2001-01-28   -0.460755\n",
       "2001-01-29    1.164039\n",
       "2001-01-30   -0.096815\n",
       "2001-01-31   -0.856095\n",
       "Freq: D, dtype: float64"
      ]
     },
     "execution_count": 12,
     "metadata": {},
     "output_type": "execute_result"
    }
   ],
   "source": [
    "longer_ts['1/6/2000':'1/31/2001'].tail()"
   ]
  },
  {
   "cell_type": "code",
   "execution_count": 14,
   "metadata": {
    "collapsed": false
   },
   "outputs": [
    {
     "data": {
      "text/plain": [
       "2011-01-02   -0.711421\n",
       "2011-01-03         NaN\n",
       "2011-01-04         NaN\n",
       "2011-01-05    0.251988\n",
       "2011-01-06         NaN\n",
       "Freq: D, dtype: float64"
      ]
     },
     "execution_count": 14,
     "metadata": {},
     "output_type": "execute_result"
    }
   ],
   "source": [
    "ts.resample('D').head()"
   ]
  },
  {
   "cell_type": "code",
   "execution_count": 16,
   "metadata": {
    "collapsed": false
   },
   "outputs": [
    {
     "data": {
      "text/plain": [
       "DatetimeIndex(['2012-04-01', '2012-04-02', '2012-04-03', '2012-04-04',\n",
       "               '2012-04-05', '2012-04-06', '2012-04-07', '2012-04-08',\n",
       "               '2012-04-09', '2012-04-10', '2012-04-11', '2012-04-12',\n",
       "               '2012-04-13', '2012-04-14', '2012-04-15', '2012-04-16',\n",
       "               '2012-04-17', '2012-04-18', '2012-04-19', '2012-04-20',\n",
       "               '2012-04-21', '2012-04-22', '2012-04-23', '2012-04-24',\n",
       "               '2012-04-25', '2012-04-26', '2012-04-27', '2012-04-28',\n",
       "               '2012-04-29', '2012-04-30', '2012-05-01', '2012-05-02',\n",
       "               '2012-05-03', '2012-05-04', '2012-05-05', '2012-05-06',\n",
       "               '2012-05-07', '2012-05-08', '2012-05-09', '2012-05-10',\n",
       "               '2012-05-11', '2012-05-12', '2012-05-13', '2012-05-14',\n",
       "               '2012-05-15', '2012-05-16', '2012-05-17', '2012-05-18',\n",
       "               '2012-05-19', '2012-05-20', '2012-05-21', '2012-05-22',\n",
       "               '2012-05-23', '2012-05-24', '2012-05-25', '2012-05-26',\n",
       "               '2012-05-27', '2012-05-28', '2012-05-29', '2012-05-30',\n",
       "               '2012-05-31', '2012-06-01'],\n",
       "              dtype='datetime64[ns]', freq='D', tz=None)"
      ]
     },
     "execution_count": 16,
     "metadata": {},
     "output_type": "execute_result"
    }
   ],
   "source": [
    "index = pd.date_range('4/1/2012', '6/1/12')\n",
    "index"
   ]
  },
  {
   "cell_type": "code",
   "execution_count": 35,
   "metadata": {
    "collapsed": false
   },
   "outputs": [
    {
     "data": {
      "text/plain": [
       "DatetimeIndex(['2015-10-09 06:30:00-07:00', '2015-10-09 06:35:00-07:00',\n",
       "               '2015-10-09 06:40:00-07:00', '2015-10-09 06:45:00-07:00',\n",
       "               '2015-10-09 06:50:00-07:00', '2015-10-09 06:55:00-07:00',\n",
       "               '2015-10-09 07:00:00-07:00', '2015-10-09 07:05:00-07:00',\n",
       "               '2015-10-09 07:10:00-07:00', '2015-10-09 07:15:00-07:00',\n",
       "               '2015-10-09 07:20:00-07:00', '2015-10-09 07:25:00-07:00',\n",
       "               '2015-10-09 07:30:00-07:00', '2015-10-09 07:35:00-07:00',\n",
       "               '2015-10-09 07:40:00-07:00', '2015-10-09 07:45:00-07:00',\n",
       "               '2015-10-09 07:50:00-07:00', '2015-10-09 07:55:00-07:00',\n",
       "               '2015-10-09 08:00:00-07:00', '2015-10-09 08:05:00-07:00',\n",
       "               '2015-10-09 08:10:00-07:00', '2015-10-09 08:15:00-07:00',\n",
       "               '2015-10-09 08:20:00-07:00', '2015-10-09 08:25:00-07:00',\n",
       "               '2015-10-09 08:30:00-07:00', '2015-10-09 08:35:00-07:00',\n",
       "               '2015-10-09 08:40:00-07:00', '2015-10-09 08:45:00-07:00',\n",
       "               '2015-10-09 08:50:00-07:00', '2015-10-09 08:55:00-07:00',\n",
       "               '2015-10-09 09:00:00-07:00', '2015-10-09 09:05:00-07:00',\n",
       "               '2015-10-09 09:10:00-07:00', '2015-10-09 09:15:00-07:00',\n",
       "               '2015-10-09 09:20:00-07:00', '2015-10-09 09:25:00-07:00',\n",
       "               '2015-10-09 09:30:00-07:00', '2015-10-09 09:35:00-07:00',\n",
       "               '2015-10-09 09:40:00-07:00', '2015-10-09 09:45:00-07:00',\n",
       "               '2015-10-09 09:50:00-07:00', '2015-10-09 09:55:00-07:00',\n",
       "               '2015-10-09 10:00:00-07:00', '2015-10-09 10:05:00-07:00',\n",
       "               '2015-10-09 10:10:00-07:00', '2015-10-09 10:15:00-07:00',\n",
       "               '2015-10-09 10:20:00-07:00', '2015-10-09 10:25:00-07:00',\n",
       "               '2015-10-09 10:30:00-07:00', '2015-10-09 10:35:00-07:00',\n",
       "               '2015-10-09 10:40:00-07:00', '2015-10-09 10:45:00-07:00',\n",
       "               '2015-10-09 10:50:00-07:00', '2015-10-09 10:55:00-07:00',\n",
       "               '2015-10-09 11:00:00-07:00', '2015-10-09 11:05:00-07:00',\n",
       "               '2015-10-09 11:10:00-07:00', '2015-10-09 11:15:00-07:00',\n",
       "               '2015-10-09 11:20:00-07:00', '2015-10-09 11:25:00-07:00',\n",
       "               '2015-10-09 11:30:00-07:00', '2015-10-09 11:35:00-07:00',\n",
       "               '2015-10-09 11:40:00-07:00', '2015-10-09 11:45:00-07:00',\n",
       "               '2015-10-09 11:50:00-07:00', '2015-10-09 11:55:00-07:00',\n",
       "               '2015-10-09 12:00:00-07:00', '2015-10-09 12:05:00-07:00',\n",
       "               '2015-10-09 12:10:00-07:00', '2015-10-09 12:15:00-07:00',\n",
       "               '2015-10-09 12:20:00-07:00', '2015-10-09 12:25:00-07:00',\n",
       "               '2015-10-09 12:30:00-07:00', '2015-10-09 12:35:00-07:00',\n",
       "               '2015-10-09 12:40:00-07:00', '2015-10-09 12:45:00-07:00',\n",
       "               '2015-10-09 12:50:00-07:00', '2015-10-09 12:55:00-07:00',\n",
       "               '2015-10-09 13:00:00-07:00'],\n",
       "              dtype='datetime64[ns]', freq='5T', tz='US/Pacific')"
      ]
     },
     "execution_count": 35,
     "metadata": {},
     "output_type": "execute_result"
    }
   ],
   "source": [
    "west_coast = pd.date_range('10/9/15 6:30AM', '10/9/15 1:00PM', freq='5min', tz='US/Pacific')\n",
    "west_coast"
   ]
  },
  {
   "cell_type": "code",
   "execution_count": 22,
   "metadata": {
    "collapsed": false
   },
   "outputs": [
    {
     "data": {
      "text/plain": [
       "DatetimeIndex(['2012-01-20', '2012-02-17', '2012-03-16', '2012-04-20',\n",
       "               '2012-05-18', '2012-06-15', '2012-07-20', '2012-08-17'],\n",
       "              dtype='datetime64[ns]', freq='WOM-3FRI', tz=None)"
      ]
     },
     "execution_count": 22,
     "metadata": {},
     "output_type": "execute_result"
    }
   ],
   "source": [
    "expiration = pd.date_range('1/1/12', '9/1/12', freq='WOM-3FRI')\n",
    "expiration"
   ]
  },
  {
   "cell_type": "code",
   "execution_count": 31,
   "metadata": {
    "collapsed": false
   },
   "outputs": [
    {
     "data": {
      "text/plain": [
       "2000-01-31         NaN\n",
       "2000-02-29   -0.614445\n",
       "2000-03-31    0.468774\n",
       "2000-04-30   -0.135567\n",
       "Freq: M, dtype: float64"
      ]
     },
     "execution_count": 31,
     "metadata": {},
     "output_type": "execute_result"
    }
   ],
   "source": [
    "ts = Series(np.random.randn(4), index=pd.date_range('1/1/2000', periods=4, freq='M'))\n",
    "ts.shift(1)"
   ]
  },
  {
   "cell_type": "code",
   "execution_count": 28,
   "metadata": {
    "collapsed": false
   },
   "outputs": [
    {
     "data": {
      "text/plain": [
       "2000-01-23   -1.098153\n",
       "2000-02-20   -1.533030\n",
       "2000-03-19    0.753498\n",
       "2000-04-16    0.193703\n",
       "dtype: float64"
      ]
     },
     "execution_count": 28,
     "metadata": {},
     "output_type": "execute_result"
    }
   ],
   "source": [
    "ts.shift(-2, freq='W') #two weeks backwards, keep all indexes"
   ]
  },
  {
   "cell_type": "code",
   "execution_count": 36,
   "metadata": {
    "collapsed": false
   },
   "outputs": [
    {
     "data": {
      "text/plain": [
       "['US/Eastern', 'US/Hawaii', 'US/Mountain', 'US/Pacific', 'UTC']"
      ]
     },
     "execution_count": 36,
     "metadata": {},
     "output_type": "execute_result"
    }
   ],
   "source": [
    "import pytz\n",
    "pytz.common_timezones[-5:]"
   ]
  },
  {
   "cell_type": "code",
   "execution_count": 41,
   "metadata": {
    "collapsed": false
   },
   "outputs": [
    {
     "data": {
      "text/plain": [
       "DatetimeIndex(['2015-10-09 09:30:00-04:00', '2015-10-09 09:35:00-04:00',\n",
       "               '2015-10-09 09:40:00-04:00', '2015-10-09 09:45:00-04:00',\n",
       "               '2015-10-09 09:50:00-04:00'],\n",
       "              dtype='datetime64[ns]', freq='5T', tz='US/Eastern')"
      ]
     },
     "execution_count": 41,
     "metadata": {},
     "output_type": "execute_result"
    }
   ],
   "source": [
    "west_coast.tz_convert('US/Eastern')[:5]"
   ]
  },
  {
   "cell_type": "code",
   "execution_count": 43,
   "metadata": {
    "collapsed": false
   },
   "outputs": [
    {
     "data": {
      "text/plain": [
       "Period('2012', 'A-DEC')"
      ]
     },
     "execution_count": 43,
     "metadata": {},
     "output_type": "execute_result"
    }
   ],
   "source": [
    "p = pd.Period(2007, freq='A-DEC')\n",
    "p+5"
   ]
  },
  {
   "cell_type": "code",
   "execution_count": 44,
   "metadata": {
    "collapsed": false
   },
   "outputs": [
    {
     "data": {
      "text/plain": [
       "2011Q3    0\n",
       "2011Q4    1\n",
       "2012Q1    2\n",
       "2012Q2    3\n",
       "2012Q3    4\n",
       "2012Q4    5\n",
       "2013Q1    6\n",
       "2013Q2    7\n",
       "2013Q3    8\n",
       "2013Q4    9\n",
       "Freq: Q-JAN, dtype: int64"
      ]
     },
     "execution_count": 44,
     "metadata": {},
     "output_type": "execute_result"
    }
   ],
   "source": [
    "rng = pd.period_range('2011Q3', '2013Q4', freq='Q-JAN')\n",
    "\n",
    "ts = Series(np.arange(len(rng)), index=rng)\n",
    "\n",
    "ts"
   ]
  },
  {
   "cell_type": "code",
   "execution_count": 52,
   "metadata": {
    "collapsed": false
   },
   "outputs": [
    {
     "data": {
      "text/plain": [
       "DatetimeIndex(['2010-10-28 16:00:00', '2011-01-28 16:00:00',\n",
       "               '2011-04-28 16:00:00', '2011-07-28 16:00:00',\n",
       "               '2011-10-28 16:00:00', '2012-01-30 16:00:00',\n",
       "               '2012-04-27 16:00:00', '2012-07-30 16:00:00',\n",
       "               '2012-10-30 16:00:00', '2013-01-30 16:00:00'],\n",
       "              dtype='datetime64[ns]', freq=None, tz=None)"
      ]
     },
     "execution_count": 52,
     "metadata": {},
     "output_type": "execute_result"
    }
   ],
   "source": [
    "# get market close on last business day of each quarter from original range... #wow\n",
    "new_rng = (rng.asfreq('B', 'e') - 1).asfreq('T','s') + 16*60\n",
    "new_rng.to_timestamp()"
   ]
  },
  {
   "cell_type": "code",
   "execution_count": 56,
   "metadata": {
    "collapsed": false
   },
   "outputs": [
    {
     "data": {
      "text/plain": [
       "2000-01-01    1.808966\n",
       "2000-01-02   -2.242981\n",
       "2000-01-03   -0.003756\n",
       "2000-01-04    0.398438\n",
       "2000-01-05    1.320053\n",
       "Freq: D, dtype: float64"
      ]
     },
     "execution_count": 56,
     "metadata": {},
     "output_type": "execute_result"
    }
   ],
   "source": [
    "rng = pd.date_range('1/1/2000', periods=100, freq='D')\n",
    "ts = Series(np.random.randn(len(rng)), index=rng)\n",
    "ts.head()"
   ]
  },
  {
   "cell_type": "code",
   "execution_count": 58,
   "metadata": {
    "collapsed": false
   },
   "outputs": [
    {
     "data": {
      "text/plain": [
       "2000-01-31    0.172126\n",
       "2000-02-29    0.031560\n",
       "2000-03-31   -0.046460\n",
       "2000-04-30   -0.265825\n",
       "Freq: M, dtype: float64"
      ]
     },
     "execution_count": 58,
     "metadata": {},
     "output_type": "execute_result"
    }
   ],
   "source": [
    "ts.resample('M', how='mean') #kind='period'"
   ]
  },
  {
   "cell_type": "code",
   "execution_count": 59,
   "metadata": {
    "collapsed": false
   },
   "outputs": [
    {
     "data": {
      "text/plain": [
       "2000-01-01 00:00:00    1.808966\n",
       "2000-01-01 00:05:00         NaN\n",
       "2000-01-01 00:10:00         NaN\n",
       "2000-01-01 00:15:00         NaN\n",
       "2000-01-01 00:20:00         NaN\n",
       "Freq: 5T, dtype: float64"
      ]
     },
     "execution_count": 59,
     "metadata": {},
     "output_type": "execute_result"
    }
   ],
   "source": [
    "ts.resample('5min', how='sum', closed='right', label='right').head()"
   ]
  },
  {
   "cell_type": "code",
   "execution_count": 60,
   "metadata": {
    "collapsed": false
   },
   "outputs": [
    {
     "data": {
      "text/plain": [
       "1999-12-31 23:59:59    1.808966\n",
       "2000-01-01 00:04:59         NaN\n",
       "2000-01-01 00:09:59         NaN\n",
       "2000-01-01 00:14:59         NaN\n",
       "2000-01-01 00:19:59         NaN\n",
       "Freq: 5T, dtype: float64"
      ]
     },
     "execution_count": 60,
     "metadata": {},
     "output_type": "execute_result"
    }
   ],
   "source": [
    "ts.resample('5min', how='sum', closed='right', label='right', loffset='-1s').head()"
   ]
  },
  {
   "cell_type": "code",
   "execution_count": 62,
   "metadata": {
    "collapsed": false
   },
   "outputs": [
    {
     "data": {
      "text/html": [
       "<div>\n",
       "<table border=\"1\" class=\"dataframe\">\n",
       "  <thead>\n",
       "    <tr style=\"text-align: right;\">\n",
       "      <th></th>\n",
       "      <th>open</th>\n",
       "      <th>high</th>\n",
       "      <th>low</th>\n",
       "      <th>close</th>\n",
       "    </tr>\n",
       "  </thead>\n",
       "  <tbody>\n",
       "    <tr>\n",
       "      <th>2000-01-01 00:00:00</th>\n",
       "      <td>1.808966</td>\n",
       "      <td>1.808966</td>\n",
       "      <td>1.808966</td>\n",
       "      <td>1.808966</td>\n",
       "    </tr>\n",
       "    <tr>\n",
       "      <th>2000-01-01 00:05:00</th>\n",
       "      <td>NaN</td>\n",
       "      <td>NaN</td>\n",
       "      <td>NaN</td>\n",
       "      <td>NaN</td>\n",
       "    </tr>\n",
       "    <tr>\n",
       "      <th>2000-01-01 00:10:00</th>\n",
       "      <td>NaN</td>\n",
       "      <td>NaN</td>\n",
       "      <td>NaN</td>\n",
       "      <td>NaN</td>\n",
       "    </tr>\n",
       "    <tr>\n",
       "      <th>2000-01-01 00:15:00</th>\n",
       "      <td>NaN</td>\n",
       "      <td>NaN</td>\n",
       "      <td>NaN</td>\n",
       "      <td>NaN</td>\n",
       "    </tr>\n",
       "    <tr>\n",
       "      <th>2000-01-01 00:20:00</th>\n",
       "      <td>NaN</td>\n",
       "      <td>NaN</td>\n",
       "      <td>NaN</td>\n",
       "      <td>NaN</td>\n",
       "    </tr>\n",
       "  </tbody>\n",
       "</table>\n",
       "</div>"
      ],
      "text/plain": [
       "                         open      high       low     close\n",
       "2000-01-01 00:00:00  1.808966  1.808966  1.808966  1.808966\n",
       "2000-01-01 00:05:00       NaN       NaN       NaN       NaN\n",
       "2000-01-01 00:10:00       NaN       NaN       NaN       NaN\n",
       "2000-01-01 00:15:00       NaN       NaN       NaN       NaN\n",
       "2000-01-01 00:20:00       NaN       NaN       NaN       NaN"
      ]
     },
     "execution_count": 62,
     "metadata": {},
     "output_type": "execute_result"
    }
   ],
   "source": [
    "ts.resample('5min', how='ohlc').head()"
   ]
  },
  {
   "cell_type": "code",
   "execution_count": 63,
   "metadata": {
    "collapsed": false
   },
   "outputs": [
    {
     "data": {
      "text/html": [
       "<div>\n",
       "<table border=\"1\" class=\"dataframe\">\n",
       "  <thead>\n",
       "    <tr style=\"text-align: right;\">\n",
       "      <th></th>\n",
       "      <th>Colorado</th>\n",
       "      <th>Texas</th>\n",
       "      <th>New York</th>\n",
       "      <th>Ohio</th>\n",
       "    </tr>\n",
       "  </thead>\n",
       "  <tbody>\n",
       "    <tr>\n",
       "      <th>2000-01-05</th>\n",
       "      <td>-0.447496</td>\n",
       "      <td>0.840240</td>\n",
       "      <td>-0.976674</td>\n",
       "      <td>-1.008055</td>\n",
       "    </tr>\n",
       "    <tr>\n",
       "      <th>2000-01-12</th>\n",
       "      <td>0.571280</td>\n",
       "      <td>-0.078559</td>\n",
       "      <td>-1.094206</td>\n",
       "      <td>0.729001</td>\n",
       "    </tr>\n",
       "  </tbody>\n",
       "</table>\n",
       "</div>"
      ],
      "text/plain": [
       "            Colorado     Texas  New York      Ohio\n",
       "2000-01-05 -0.447496  0.840240 -0.976674 -1.008055\n",
       "2000-01-12  0.571280 -0.078559 -1.094206  0.729001"
      ]
     },
     "execution_count": 63,
     "metadata": {},
     "output_type": "execute_result"
    }
   ],
   "source": [
    "#upsampling is more straight forward...\n",
    "frame = DataFrame(np.random.randn(2,4), index=pd.date_range('1/1/2000', periods=2, freq='W-WED'),\n",
    "                                        columns=['Colorado', 'Texas', 'New York', 'Ohio'])\n",
    "frame"
   ]
  },
  {
   "cell_type": "code",
   "execution_count": 66,
   "metadata": {
    "collapsed": false
   },
   "outputs": [
    {
     "data": {
      "text/html": [
       "<div>\n",
       "<table border=\"1\" class=\"dataframe\">\n",
       "  <thead>\n",
       "    <tr style=\"text-align: right;\">\n",
       "      <th></th>\n",
       "      <th>Colorado</th>\n",
       "      <th>Texas</th>\n",
       "      <th>New York</th>\n",
       "      <th>Ohio</th>\n",
       "    </tr>\n",
       "  </thead>\n",
       "  <tbody>\n",
       "    <tr>\n",
       "      <th>2000-01-05</th>\n",
       "      <td>-0.447496</td>\n",
       "      <td>0.840240</td>\n",
       "      <td>-0.976674</td>\n",
       "      <td>-1.008055</td>\n",
       "    </tr>\n",
       "    <tr>\n",
       "      <th>2000-01-06</th>\n",
       "      <td>-0.447496</td>\n",
       "      <td>0.840240</td>\n",
       "      <td>-0.976674</td>\n",
       "      <td>-1.008055</td>\n",
       "    </tr>\n",
       "    <tr>\n",
       "      <th>2000-01-07</th>\n",
       "      <td>-0.447496</td>\n",
       "      <td>0.840240</td>\n",
       "      <td>-0.976674</td>\n",
       "      <td>-1.008055</td>\n",
       "    </tr>\n",
       "    <tr>\n",
       "      <th>2000-01-08</th>\n",
       "      <td>-0.447496</td>\n",
       "      <td>0.840240</td>\n",
       "      <td>-0.976674</td>\n",
       "      <td>-1.008055</td>\n",
       "    </tr>\n",
       "    <tr>\n",
       "      <th>2000-01-09</th>\n",
       "      <td>-0.447496</td>\n",
       "      <td>0.840240</td>\n",
       "      <td>-0.976674</td>\n",
       "      <td>-1.008055</td>\n",
       "    </tr>\n",
       "    <tr>\n",
       "      <th>2000-01-10</th>\n",
       "      <td>-0.447496</td>\n",
       "      <td>0.840240</td>\n",
       "      <td>-0.976674</td>\n",
       "      <td>-1.008055</td>\n",
       "    </tr>\n",
       "    <tr>\n",
       "      <th>2000-01-11</th>\n",
       "      <td>-0.447496</td>\n",
       "      <td>0.840240</td>\n",
       "      <td>-0.976674</td>\n",
       "      <td>-1.008055</td>\n",
       "    </tr>\n",
       "    <tr>\n",
       "      <th>2000-01-12</th>\n",
       "      <td>0.571280</td>\n",
       "      <td>-0.078559</td>\n",
       "      <td>-1.094206</td>\n",
       "      <td>0.729001</td>\n",
       "    </tr>\n",
       "  </tbody>\n",
       "</table>\n",
       "</div>"
      ],
      "text/plain": [
       "            Colorado     Texas  New York      Ohio\n",
       "2000-01-05 -0.447496  0.840240 -0.976674 -1.008055\n",
       "2000-01-06 -0.447496  0.840240 -0.976674 -1.008055\n",
       "2000-01-07 -0.447496  0.840240 -0.976674 -1.008055\n",
       "2000-01-08 -0.447496  0.840240 -0.976674 -1.008055\n",
       "2000-01-09 -0.447496  0.840240 -0.976674 -1.008055\n",
       "2000-01-10 -0.447496  0.840240 -0.976674 -1.008055\n",
       "2000-01-11 -0.447496  0.840240 -0.976674 -1.008055\n",
       "2000-01-12  0.571280 -0.078559 -1.094206  0.729001"
      ]
     },
     "execution_count": 66,
     "metadata": {},
     "output_type": "execute_result"
    }
   ],
   "source": [
    "df_daily = frame.resample('D', fill_method='ffill')\n",
    "df_daily"
   ]
  },
  {
   "cell_type": "code",
   "execution_count": 71,
   "metadata": {
    "collapsed": false
   },
   "outputs": [
    {
     "data": {
      "text/html": [
       "<div>\n",
       "<table border=\"1\" class=\"dataframe\">\n",
       "  <thead>\n",
       "    <tr style=\"text-align: right;\">\n",
       "      <th></th>\n",
       "      <th>Time</th>\n",
       "      <th>Open</th>\n",
       "      <th>High</th>\n",
       "      <th>Low</th>\n",
       "      <th>Close</th>\n",
       "      <th>Volume</th>\n",
       "      <th>OpenInt</th>\n",
       "    </tr>\n",
       "    <tr>\n",
       "      <th>Date</th>\n",
       "      <th></th>\n",
       "      <th></th>\n",
       "      <th></th>\n",
       "      <th></th>\n",
       "      <th></th>\n",
       "      <th></th>\n",
       "      <th></th>\n",
       "    </tr>\n",
       "  </thead>\n",
       "  <tbody>\n",
       "    <tr>\n",
       "      <th>2014-06-24</th>\n",
       "      <td>16:25:00</td>\n",
       "      <td>38.587</td>\n",
       "      <td>38.587</td>\n",
       "      <td>38.548</td>\n",
       "      <td>38.548</td>\n",
       "      <td>403</td>\n",
       "      <td>0</td>\n",
       "    </tr>\n",
       "    <tr>\n",
       "      <th>2014-06-24</th>\n",
       "      <td>16:50:00</td>\n",
       "      <td>38.577</td>\n",
       "      <td>38.577</td>\n",
       "      <td>38.577</td>\n",
       "      <td>38.577</td>\n",
       "      <td>403</td>\n",
       "      <td>0</td>\n",
       "    </tr>\n",
       "    <tr>\n",
       "      <th>2014-06-24</th>\n",
       "      <td>17:25:00</td>\n",
       "      <td>38.558</td>\n",
       "      <td>38.558</td>\n",
       "      <td>38.449</td>\n",
       "      <td>38.469</td>\n",
       "      <td>949</td>\n",
       "      <td>0</td>\n",
       "    </tr>\n",
       "    <tr>\n",
       "      <th>2014-06-24</th>\n",
       "      <td>17:50:00</td>\n",
       "      <td>38.498</td>\n",
       "      <td>38.498</td>\n",
       "      <td>38.498</td>\n",
       "      <td>38.498</td>\n",
       "      <td>202</td>\n",
       "      <td>0</td>\n",
       "    </tr>\n",
       "    <tr>\n",
       "      <th>2014-06-24</th>\n",
       "      <td>17:55:00</td>\n",
       "      <td>38.508</td>\n",
       "      <td>38.548</td>\n",
       "      <td>38.498</td>\n",
       "      <td>38.538</td>\n",
       "      <td>1714</td>\n",
       "      <td>0</td>\n",
       "    </tr>\n",
       "  </tbody>\n",
       "</table>\n",
       "</div>"
      ],
      "text/plain": [
       "                Time    Open    High     Low   Close  Volume  OpenInt\n",
       "Date                                                                 \n",
       "2014-06-24  16:25:00  38.587  38.587  38.548  38.548     403        0\n",
       "2014-06-24  16:50:00  38.577  38.577  38.577  38.577     403        0\n",
       "2014-06-24  17:25:00  38.558  38.558  38.449  38.469     949        0\n",
       "2014-06-24  17:50:00  38.498  38.498  38.498  38.498     202        0\n",
       "2014-06-24  17:55:00  38.508  38.548  38.498  38.538    1714        0"
      ]
     },
     "execution_count": 71,
     "metadata": {},
     "output_type": "execute_result"
    }
   ],
   "source": [
    "aadr = pd.read_csv('~/Documents/Training/Python For Data Analysis/5min data/5 min/us/nyse etfs/aadr.us.txt',\n",
    "                  parse_dates=True, index_col=0)\n",
    "aadr.head()"
   ]
  },
  {
   "cell_type": "code",
   "execution_count": 77,
   "metadata": {
    "collapsed": false
   },
   "outputs": [
    {
     "data": {
      "text/plain": [
       "<matplotlib.axes._subplots.AxesSubplot at 0x10b982e90>"
      ]
     },
     "execution_count": 77,
     "metadata": {},
     "output_type": "execute_result"
    },
    {
     "data": {
      "image/png": "[encoded data removed]",
      "text/plain": [
       "<matplotlib.figure.Figure at 0x106a534d0>"
      ]
     },
     "metadata": {},
     "output_type": "display_data"
    }
   ],
   "source": [
    "aadr[['Close']].plot()"
   ]
  },
  {
   "cell_type": "code",
   "execution_count": 78,
   "metadata": {
    "collapsed": false
   },
   "outputs": [
    {
     "data": {
      "text/plain": [
       "<matplotlib.axes._subplots.AxesSubplot at 0x107ad9d10>"
      ]
     },
     "execution_count": 78,
     "metadata": {},
     "output_type": "execute_result"
    },
    {
     "data": {
      "image/png": "[encoded data removed]",
      "text/plain": [
       "<matplotlib.figure.Figure at 0x107ae7650>"
      ]
     },
     "metadata": {},
     "output_type": "display_data"
    }
   ],
   "source": [
    "pd.rolling_mean(aadr.Close, 200).plot()"
   ]
  },
  {
   "cell_type": "code",
   "execution_count": 80,
   "metadata": {
    "collapsed": false
   },
   "outputs": [
    {
     "data": {
      "text/plain": [
       "<matplotlib.axes._subplots.AxesSubplot at 0x1084625d0>"
      ]
     },
     "execution_count": 80,
     "metadata": {},
     "output_type": "execute_result"
    },
    {
     "data": {
      "image/png": "[encoded data removed]",
      "text/plain": [
       "<matplotlib.figure.Figure at 0x108478150>"
      ]
     },
     "metadata": {},
     "output_type": "display_data"
    }
   ],
   "source": [
    "pd.rolling_std(aadr.Close, 200, min_periods=10).plot()"
   ]
  },
  {
   "cell_type": "code",
   "execution_count": 82,
   "metadata": {
    "collapsed": false
   },
   "outputs": [
    {
     "data": {
      "text/plain": [
       "<matplotlib.text.Text at 0x10c974b90>"
      ]
     },
     "execution_count": 82,
     "metadata": {},
     "output_type": "execute_result"
    },
    {
     "data": {
      "image/png": "[encoded data removed]",
      "text/plain": [
       "<matplotlib.figure.Figure at 0x10bca9d90>"
      ]
     },
     "metadata": {},
     "output_type": "display_data"
    }
   ],
   "source": [
    "fig, axes = plt.subplots(nrows=2, ncols=1, sharex=True, sharey=True)\n",
    "\n",
    "ma60 = pd.rolling_mean(aadr.Close, 60, min_periods=50)\n",
    "ewma60 = pd.ewma(aadr.Close, span=60)\n",
    "\n",
    "aadr['Close'].plot(style='k-', ax=axes[0])\n",
    "ma60.plot(style='k--', ax=axes[0])\n",
    "aadr['Close'].plot(style='k-', ax=axes[1])\n",
    "ewma60.plot(style='k--', ax=axes[1])\n",
    "\n",
    "axes[0].set_title('Simple MA')\n",
    "axes[1].set_title('Exp. MA')"
   ]
  }
 ],
 "metadata": {
  "kernelspec": {
   "display_name": "Python 2",
   "language": "python",
   "name": "python2"
  },
  "language_info": {
   "codemirror_mode": {
    "name": "ipython",
    "version": 2
   },
   "file_extension": ".py",
   "mimetype": "text/x-python",
   "name": "python",
   "nbconvert_exporter": "python",
   "pygments_lexer": "ipython2",
   "version": "2.7.10"
  }
 },
 "nbformat": 4,
 "nbformat_minor": 0
}
