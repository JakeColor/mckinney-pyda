{
 "cells": [
  {
   "cell_type": "code",
   "execution_count": 2,
   "metadata": {
    "collapsed": true
   },
   "outputs": [],
   "source": [
    "import numpy as np\n",
    "import pandas as pd\n",
    "from pandas import Series, DataFrame\n",
    "\n",
    "import matplotlib.pyplot as plt"
   ]
  },
  {
   "cell_type": "code",
   "execution_count": 3,
   "metadata": {
    "collapsed": true
   },
   "outputs": [],
   "source": [
    "%matplotlib inline"
   ]
  },
  {
   "cell_type": "code",
   "execution_count": 4,
   "metadata": {
    "collapsed": false
   },
   "outputs": [
    {
     "data": {
      "text/html": [
       "<div>\n",
       "<table border=\"1\" class=\"dataframe\">\n",
       "  <thead>\n",
       "    <tr style=\"text-align: right;\">\n",
       "      <th></th>\n",
       "      <th>Time</th>\n",
       "      <th>Open</th>\n",
       "      <th>High</th>\n",
       "      <th>Low</th>\n",
       "      <th>Close</th>\n",
       "      <th>Volume</th>\n",
       "      <th>OpenInt</th>\n",
       "    </tr>\n",
       "    <tr>\n",
       "      <th>Date</th>\n",
       "      <th></th>\n",
       "      <th></th>\n",
       "      <th></th>\n",
       "      <th></th>\n",
       "      <th></th>\n",
       "      <th></th>\n",
       "      <th></th>\n",
       "    </tr>\n",
       "  </thead>\n",
       "  <tbody>\n",
       "    <tr>\n",
       "      <th>2014-06-24</th>\n",
       "      <td>16:25:00</td>\n",
       "      <td>38.587</td>\n",
       "      <td>38.587</td>\n",
       "      <td>38.548</td>\n",
       "      <td>38.548</td>\n",
       "      <td>403</td>\n",
       "      <td>0</td>\n",
       "    </tr>\n",
       "    <tr>\n",
       "      <th>2014-06-24</th>\n",
       "      <td>16:50:00</td>\n",
       "      <td>38.577</td>\n",
       "      <td>38.577</td>\n",
       "      <td>38.577</td>\n",
       "      <td>38.577</td>\n",
       "      <td>403</td>\n",
       "      <td>0</td>\n",
       "    </tr>\n",
       "    <tr>\n",
       "      <th>2014-06-24</th>\n",
       "      <td>17:25:00</td>\n",
       "      <td>38.558</td>\n",
       "      <td>38.558</td>\n",
       "      <td>38.449</td>\n",
       "      <td>38.469</td>\n",
       "      <td>949</td>\n",
       "      <td>0</td>\n",
       "    </tr>\n",
       "    <tr>\n",
       "      <th>2014-06-24</th>\n",
       "      <td>17:50:00</td>\n",
       "      <td>38.498</td>\n",
       "      <td>38.498</td>\n",
       "      <td>38.498</td>\n",
       "      <td>38.498</td>\n",
       "      <td>202</td>\n",
       "      <td>0</td>\n",
       "    </tr>\n",
       "    <tr>\n",
       "      <th>2014-06-24</th>\n",
       "      <td>17:55:00</td>\n",
       "      <td>38.508</td>\n",
       "      <td>38.548</td>\n",
       "      <td>38.498</td>\n",
       "      <td>38.538</td>\n",
       "      <td>1714</td>\n",
       "      <td>0</td>\n",
       "    </tr>\n",
       "  </tbody>\n",
       "</table>\n",
       "</div>"
      ],
      "text/plain": [
       "                Time    Open    High     Low   Close  Volume  OpenInt\n",
       "Date                                                                 \n",
       "2014-06-24  16:25:00  38.587  38.587  38.548  38.548     403        0\n",
       "2014-06-24  16:50:00  38.577  38.577  38.577  38.577     403        0\n",
       "2014-06-24  17:25:00  38.558  38.558  38.449  38.469     949        0\n",
       "2014-06-24  17:50:00  38.498  38.498  38.498  38.498     202        0\n",
       "2014-06-24  17:55:00  38.508  38.548  38.498  38.538    1714        0"
      ]
     },
     "execution_count": 4,
     "metadata": {},
     "output_type": "execute_result"
    }
   ],
   "source": [
    "aadr = pd.read_csv('~/Documents/Training/Python For Data Analysis/5min data/5 min/us/nyse etfs/aadr.us.txt',\n",
    "                  parse_dates=True, index_col=0)\n",
    "aadr.head()"
   ]
  },
  {
   "cell_type": "code",
   "execution_count": 5,
   "metadata": {
    "collapsed": false
   },
   "outputs": [
    {
     "data": {
      "text/plain": [
       "38.0329920792959"
      ]
     },
     "execution_count": 5,
     "metadata": {},
     "output_type": "execute_result"
    }
   ],
   "source": [
    "vwap = (aadr.Close * aadr.Volume).sum() / aadr.Volume.sum()\n",
    "vwap"
   ]
  },
  {
   "cell_type": "code",
   "execution_count": 6,
   "metadata": {
    "collapsed": false
   },
   "outputs": [
    {
     "data": {
      "text/plain": [
       "2012-06-13    0.063169\n",
       "2012-06-20    0.530955\n",
       "2012-06-27    0.770580\n",
       "Freq: W-WED, dtype: float64"
      ]
     },
     "execution_count": 6,
     "metadata": {},
     "output_type": "execute_result"
    }
   ],
   "source": [
    "ts1 = Series(np.random.randn(3),\n",
    "             index=pd.date_range('2012-6-13', periods=3, freq='W-WED'))\n",
    "ts1"
   ]
  },
  {
   "cell_type": "code",
   "execution_count": 7,
   "metadata": {
    "collapsed": false
   },
   "outputs": [
    {
     "data": {
      "text/plain": [
       "2012-06-13    0.063169\n",
       "2012-06-14         NaN\n",
       "2012-06-15         NaN\n",
       "2012-06-18         NaN\n",
       "2012-06-19         NaN\n",
       "2012-06-20    0.530955\n",
       "2012-06-21         NaN\n",
       "2012-06-22         NaN\n",
       "2012-06-25         NaN\n",
       "2012-06-26         NaN\n",
       "2012-06-27    0.770580\n",
       "Freq: B, dtype: float64"
      ]
     },
     "execution_count": 7,
     "metadata": {},
     "output_type": "execute_result"
    }
   ],
   "source": [
    "ts1.resample('B')"
   ]
  },
  {
   "cell_type": "code",
   "execution_count": 8,
   "metadata": {
    "collapsed": false
   },
   "outputs": [
    {
     "data": {
      "text/plain": [
       "2012-06-12         NaN\n",
       "2012-06-17    0.063169\n",
       "2012-06-18    0.063169\n",
       "2012-06-21    0.530955\n",
       "2012-06-22    0.530955\n",
       "2012-06-29    0.770580\n",
       "dtype: float64"
      ]
     },
     "execution_count": 8,
     "metadata": {},
     "output_type": "execute_result"
    }
   ],
   "source": [
    "ts2 = Series(np.random.randn(6),\n",
    "             index=pd.DatetimeIndex(['2012-6-12', '2012-6-17', '2012-6-18',\n",
    "                                     '2012-6-21', '2012-6-22', '2012-6-29']))\n",
    "ts1.reindex(ts2.index, method='ffill')"
   ]
  },
  {
   "cell_type": "code",
   "execution_count": 9,
   "metadata": {
    "collapsed": false
   },
   "outputs": [
    {
     "name": "stdout",
     "output_type": "stream",
     "text": [
      "(1984Q2   -0.982740\n",
      "1984Q3    0.183495\n",
      "1984Q4   -0.819509\n",
      "1985Q1    0.270834\n",
      "1985Q2   -1.681666\n",
      "1985Q3    1.633120\n",
      "1985Q4    0.578574\n",
      "Freq: Q-SEP, dtype: float64, 1982    0.025\n",
      "1983    0.045\n",
      "1984    0.037\n",
      "1985    0.040\n",
      "Freq: A-DEC, dtype: float64)\n"
     ]
    }
   ],
   "source": [
    "gdp = Series(np.random.randn(7),\n",
    "             index = pd.period_range('1984Q2', periods=7, freq='Q-SEP'))\n",
    "infl = Series([.025, .045, .037, .04],\n",
    "              index = pd.period_range('1982', periods=4, freq='A-DEC'))\n",
    "\n",
    "print(gdp, infl)"
   ]
  },
  {
   "cell_type": "code",
   "execution_count": 10,
   "metadata": {
    "collapsed": false
   },
   "outputs": [
    {
     "data": {
      "text/plain": [
       "1984Q2    0.045\n",
       "1984Q3    0.045\n",
       "1984Q4    0.045\n",
       "1985Q1    0.037\n",
       "1985Q2    0.037\n",
       "1985Q3    0.037\n",
       "1985Q4    0.037\n",
       "Freq: Q-SEP, dtype: float64"
      ]
     },
     "execution_count": 10,
     "metadata": {},
     "output_type": "execute_result"
    }
   ],
   "source": [
    "infl_q = infl.asfreq('Q-SEP', how='end')\n",
    "infl_q.reindex(gdp.index, method='ffill')"
   ]
  },
  {
   "cell_type": "code",
   "execution_count": 11,
   "metadata": {
    "collapsed": false
   },
   "outputs": [
    {
     "data": {
      "text/plain": [
       "2012-06-01 09:30:00    0\n",
       "2012-06-01 09:31:00    1\n",
       "2012-06-01 09:32:00    2\n",
       "2012-06-01 09:33:00    3\n",
       "2012-06-01 09:34:00    4\n",
       "dtype: float64"
      ]
     },
     "execution_count": 11,
     "metadata": {},
     "output_type": "execute_result"
    }
   ],
   "source": [
    "rng = pd.date_range('2012-06-01 9:30', '2012-06-01 15:59', freq='T')\n",
    "rng = rng.append([rng + pd.offsets.BDay(i) for i in range(1,4)])\n",
    "\n",
    "ts = Series(np.arange(len(rng), dtype=float), index=rng)\n",
    "ts.head()"
   ]
  },
  {
   "cell_type": "code",
   "execution_count": 12,
   "metadata": {
    "collapsed": false
   },
   "outputs": [
    {
     "data": {
      "text/plain": [
       "2012-06-01 10:00:00      30\n",
       "2012-06-04 10:00:00     420\n",
       "2012-06-05 10:00:00     810\n",
       "2012-06-06 10:00:00    1200\n",
       "dtype: float64"
      ]
     },
     "execution_count": 12,
     "metadata": {},
     "output_type": "execute_result"
    }
   ],
   "source": [
    "from datetime import time\n",
    "\n",
    "ts[time(10,0)]"
   ]
  },
  {
   "cell_type": "code",
   "execution_count": 13,
   "metadata": {
    "collapsed": false
   },
   "outputs": [
    {
     "data": {
      "text/plain": [
       "2012-06-01 09:50:00   NaN\n",
       "2012-06-01 09:51:00    21\n",
       "2012-06-01 09:52:00    22\n",
       "2012-06-01 09:53:00   NaN\n",
       "2012-06-01 09:54:00    24\n",
       "2012-06-01 09:55:00    25\n",
       "2012-06-01 09:56:00    26\n",
       "2012-06-01 09:57:00   NaN\n",
       "2012-06-01 09:58:00   NaN\n",
       "2012-06-01 09:59:00    29\n",
       "2012-06-01 10:00:00   NaN\n",
       "dtype: float64"
      ]
     },
     "execution_count": 13,
     "metadata": {},
     "output_type": "execute_result"
    }
   ],
   "source": [
    "#last reported prices up to some boundary...\n",
    "indexer = np.sort(np.random.permutation(len(ts))[700:])\n",
    "irr_ts = ts.copy()\n",
    "irr_ts[indexer] = np.nan\n",
    "\n",
    "irr_ts['2012-06-01 09:50' : '2012-06-01 10:00']"
   ]
  },
  {
   "cell_type": "code",
   "execution_count": 14,
   "metadata": {
    "collapsed": false
   },
   "outputs": [
    {
     "data": {
      "text/plain": [
       "2012-06-01 10:00:00      29\n",
       "2012-06-04 10:00:00     419\n",
       "2012-06-05 10:00:00     807\n",
       "2012-06-06 10:00:00    1200\n",
       "Freq: B, dtype: float64"
      ]
     },
     "execution_count": 14,
     "metadata": {},
     "output_type": "execute_result"
    }
   ],
   "source": [
    "selection = pd.date_range('2012-06-01 10:00', periods=4, freq='B')\n",
    "irr_ts.asof(selection)"
   ]
  },
  {
   "cell_type": "code",
   "execution_count": 15,
   "metadata": {
    "collapsed": false
   },
   "outputs": [
    {
     "data": {
      "text/html": [
       "<div>\n",
       "<table border=\"1\" class=\"dataframe\">\n",
       "  <thead>\n",
       "    <tr style=\"text-align: right;\">\n",
       "      <th></th>\n",
       "      <th>a</th>\n",
       "      <th>b</th>\n",
       "      <th>c</th>\n",
       "    </tr>\n",
       "  </thead>\n",
       "  <tbody>\n",
       "    <tr>\n",
       "      <th>2012-06-12</th>\n",
       "      <td>1</td>\n",
       "      <td>1</td>\n",
       "      <td>1</td>\n",
       "    </tr>\n",
       "    <tr>\n",
       "      <th>2012-06-13</th>\n",
       "      <td>1</td>\n",
       "      <td>1</td>\n",
       "      <td>1</td>\n",
       "    </tr>\n",
       "    <tr>\n",
       "      <th>2012-06-14</th>\n",
       "      <td>1</td>\n",
       "      <td>1</td>\n",
       "      <td>1</td>\n",
       "    </tr>\n",
       "    <tr>\n",
       "      <th>2012-06-15</th>\n",
       "      <td>1</td>\n",
       "      <td>1</td>\n",
       "      <td>1</td>\n",
       "    </tr>\n",
       "    <tr>\n",
       "      <th>2012-06-16</th>\n",
       "      <td>1</td>\n",
       "      <td>1</td>\n",
       "      <td>1</td>\n",
       "    </tr>\n",
       "  </tbody>\n",
       "</table>\n",
       "</div>"
      ],
      "text/plain": [
       "            a  b  c\n",
       "2012-06-12  1  1  1\n",
       "2012-06-13  1  1  1\n",
       "2012-06-14  1  1  1\n",
       "2012-06-15  1  1  1\n",
       "2012-06-16  1  1  1"
      ]
     },
     "execution_count": 15,
     "metadata": {},
     "output_type": "execute_result"
    }
   ],
   "source": [
    "data1 = DataFrame(np.ones((6,3), dtype=float),\n",
    "                   columns=['a', 'b', 'c'],\n",
    "                   index=pd.date_range('6/12/2012', periods=6))\n",
    "\n",
    "data2 = DataFrame(np.ones((6,3), dtype=float) * 2,\n",
    "                  columns=['a', 'b', 'c'],\n",
    "                  index=pd.date_range('6/13/2012', periods=6))\n",
    "\n",
    "data1.head()"
   ]
  },
  {
   "cell_type": "code",
   "execution_count": 16,
   "metadata": {
    "collapsed": false
   },
   "outputs": [
    {
     "data": {
      "text/html": [
       "<div>\n",
       "<table border=\"1\" class=\"dataframe\">\n",
       "  <thead>\n",
       "    <tr style=\"text-align: right;\">\n",
       "      <th></th>\n",
       "      <th>a</th>\n",
       "      <th>b</th>\n",
       "      <th>c</th>\n",
       "    </tr>\n",
       "  </thead>\n",
       "  <tbody>\n",
       "    <tr>\n",
       "      <th>2012-06-12</th>\n",
       "      <td>1</td>\n",
       "      <td>1</td>\n",
       "      <td>1</td>\n",
       "    </tr>\n",
       "    <tr>\n",
       "      <th>2012-06-13</th>\n",
       "      <td>1</td>\n",
       "      <td>1</td>\n",
       "      <td>1</td>\n",
       "    </tr>\n",
       "    <tr>\n",
       "      <th>2012-06-14</th>\n",
       "      <td>1</td>\n",
       "      <td>1</td>\n",
       "      <td>1</td>\n",
       "    </tr>\n",
       "    <tr>\n",
       "      <th>2012-06-15</th>\n",
       "      <td>2</td>\n",
       "      <td>2</td>\n",
       "      <td>2</td>\n",
       "    </tr>\n",
       "    <tr>\n",
       "      <th>2012-06-16</th>\n",
       "      <td>2</td>\n",
       "      <td>2</td>\n",
       "      <td>2</td>\n",
       "    </tr>\n",
       "    <tr>\n",
       "      <th>2012-06-17</th>\n",
       "      <td>2</td>\n",
       "      <td>2</td>\n",
       "      <td>2</td>\n",
       "    </tr>\n",
       "    <tr>\n",
       "      <th>2012-06-18</th>\n",
       "      <td>2</td>\n",
       "      <td>2</td>\n",
       "      <td>2</td>\n",
       "    </tr>\n",
       "  </tbody>\n",
       "</table>\n",
       "</div>"
      ],
      "text/plain": [
       "            a  b  c\n",
       "2012-06-12  1  1  1\n",
       "2012-06-13  1  1  1\n",
       "2012-06-14  1  1  1\n",
       "2012-06-15  2  2  2\n",
       "2012-06-16  2  2  2\n",
       "2012-06-17  2  2  2\n",
       "2012-06-18  2  2  2"
      ]
     },
     "execution_count": 16,
     "metadata": {},
     "output_type": "execute_result"
    }
   ],
   "source": [
    "spliced = pd.concat([data1.ix[:'2012-06-14'], data2.ix['2012-06-15':]])\n",
    "spliced"
   ]
  },
  {
   "cell_type": "markdown",
   "metadata": {},
   "source": [
    "### 10-22-15"
   ]
  },
  {
   "cell_type": "code",
   "execution_count": 17,
   "metadata": {
    "collapsed": false
   },
   "outputs": [
    {
     "data": {
      "text/html": [
       "<div>\n",
       "<table border=\"1\" class=\"dataframe\">\n",
       "  <thead>\n",
       "    <tr style=\"text-align: right;\">\n",
       "      <th></th>\n",
       "      <th>Open</th>\n",
       "      <th>High</th>\n",
       "      <th>Low</th>\n",
       "      <th>Close</th>\n",
       "      <th>Volume</th>\n",
       "      <th>Adj Close</th>\n",
       "    </tr>\n",
       "    <tr>\n",
       "      <th>Date</th>\n",
       "      <th></th>\n",
       "      <th></th>\n",
       "      <th></th>\n",
       "      <th></th>\n",
       "      <th></th>\n",
       "      <th></th>\n",
       "    </tr>\n",
       "  </thead>\n",
       "  <tbody>\n",
       "    <tr>\n",
       "      <th>2013-01-02</th>\n",
       "      <td>33.799999</td>\n",
       "      <td>34.200001</td>\n",
       "      <td>33.139999</td>\n",
       "      <td>33.230000</td>\n",
       "      <td>207900</td>\n",
       "      <td>33.230000</td>\n",
       "    </tr>\n",
       "    <tr>\n",
       "      <th>2013-01-03</th>\n",
       "      <td>33.410000</td>\n",
       "      <td>34.490002</td>\n",
       "      <td>33.230000</td>\n",
       "      <td>34.389999</td>\n",
       "      <td>155400</td>\n",
       "      <td>34.389999</td>\n",
       "    </tr>\n",
       "    <tr>\n",
       "      <th>2013-01-04</th>\n",
       "      <td>34.360001</td>\n",
       "      <td>34.880001</td>\n",
       "      <td>33.680000</td>\n",
       "      <td>34.290001</td>\n",
       "      <td>231400</td>\n",
       "      <td>34.290001</td>\n",
       "    </tr>\n",
       "    <tr>\n",
       "      <th>2013-01-07</th>\n",
       "      <td>34.230000</td>\n",
       "      <td>35.439999</td>\n",
       "      <td>32.919998</td>\n",
       "      <td>32.970001</td>\n",
       "      <td>172300</td>\n",
       "      <td>32.970001</td>\n",
       "    </tr>\n",
       "    <tr>\n",
       "      <th>2013-01-08</th>\n",
       "      <td>32.849998</td>\n",
       "      <td>33.549999</td>\n",
       "      <td>31.940001</td>\n",
       "      <td>32.189999</td>\n",
       "      <td>170000</td>\n",
       "      <td>32.189999</td>\n",
       "    </tr>\n",
       "  </tbody>\n",
       "</table>\n",
       "</div>"
      ],
      "text/plain": [
       "                 Open       High        Low      Close  Volume  Adj Close\n",
       "Date                                                                     \n",
       "2013-01-02  33.799999  34.200001  33.139999  33.230000  207900  33.230000\n",
       "2013-01-03  33.410000  34.490002  33.230000  34.389999  155400  34.389999\n",
       "2013-01-04  34.360001  34.880001  33.680000  34.290001  231400  34.290001\n",
       "2013-01-07  34.230000  35.439999  32.919998  32.970001  172300  32.970001\n",
       "2013-01-08  32.849998  33.549999  31.940001  32.189999  170000  32.189999"
      ]
     },
     "execution_count": 17,
     "metadata": {},
     "output_type": "execute_result"
    }
   ],
   "source": [
    "import pandas.io.data as web\n",
    "\n",
    "price = web.get_data_yahoo('RH', '20130101')\n",
    "price.head()"
   ]
  },
  {
   "cell_type": "code",
   "execution_count": 18,
   "metadata": {
    "collapsed": false
   },
   "outputs": [
    {
     "data": {
      "text/plain": [
       "0.7287006994488634"
      ]
     },
     "execution_count": 18,
     "metadata": {},
     "output_type": "execute_result"
    }
   ],
   "source": [
    "price.loc['2013-10-03', 'Adj Close'] / price.loc['20130301', 'Adj Close'] - 1"
   ]
  },
  {
   "cell_type": "code",
   "execution_count": 19,
   "metadata": {
    "collapsed": false
   },
   "outputs": [
    {
     "data": {
      "text/plain": [
       "Date\n",
       "2013-01-02    1.000000\n",
       "2013-01-03    1.034908\n",
       "2013-01-04    1.031899\n",
       "2013-01-07    0.992176\n",
       "2013-01-08    0.968703\n",
       "2013-01-09    0.994583\n",
       "2013-01-10    0.986458\n",
       "2013-01-11    0.987662\n",
       "2013-01-14    0.987060\n",
       "2013-01-15    0.979537\n",
       "2013-01-16    0.972013\n",
       "2013-01-17    1.022570\n",
       "2013-01-18    1.058080\n",
       "2013-01-22    1.075233\n",
       "2013-01-23    1.074330\n",
       "2013-01-24    1.090280\n",
       "2013-01-25    1.085766\n",
       "2013-01-28    1.078543\n",
       "2013-01-29    1.086067\n",
       "2013-01-30    1.087271\n",
       "2013-01-31    1.083358\n",
       "2013-02-01    1.090280\n",
       "2013-02-04    1.095095\n",
       "2013-02-05    1.128799\n",
       "2013-02-06    1.171231\n",
       "2013-02-07    1.172134\n",
       "2013-02-08    1.176046\n",
       "2013-02-11    1.178754\n",
       "2013-02-12    1.189588\n",
       "2013-02-13    1.186879\n",
       "                ...   \n",
       "2015-09-23    3.048751\n",
       "2015-09-24    2.998796\n",
       "2015-09-25    2.921156\n",
       "2015-09-28    2.789949\n",
       "2015-09-29    2.778212\n",
       "2015-09-30    2.808005\n",
       "2015-10-01    2.795968\n",
       "2015-10-02    2.814024\n",
       "2015-10-05    2.869094\n",
       "2015-10-06    2.813121\n",
       "2015-10-07    2.878724\n",
       "2015-10-08    2.917244\n",
       "2015-10-09    2.889257\n",
       "2015-10-12    2.939211\n",
       "2015-10-13    2.942522\n",
       "2015-10-14    2.910924\n",
       "2015-10-15    3.007222\n",
       "2015-10-16    3.047848\n",
       "2015-10-19    3.058381\n",
       "2015-10-20    3.016852\n",
       "2015-10-21    2.951550\n",
       "2015-10-22    2.960277\n",
       "2015-10-23    2.931086\n",
       "2015-10-26    3.008125\n",
       "2015-10-27    2.989768\n",
       "2015-10-28    3.080951\n",
       "2015-10-29    3.066205\n",
       "2015-10-30    3.102317\n",
       "2015-11-02    3.179055\n",
       "2015-11-03    3.173036\n",
       "Name: Adj Close, dtype: float64"
      ]
     },
     "execution_count": 19,
     "metadata": {},
     "output_type": "execute_result"
    }
   ],
   "source": [
    "returns = price['Adj Close'].pct_change()\n",
    "ret_index = (1+returns).cumprod(); ret_index[0] = 1\n",
    "ret_index"
   ]
  },
  {
   "cell_type": "code",
   "execution_count": 20,
   "metadata": {
    "collapsed": false
   },
   "outputs": [
    {
     "data": {
      "text/plain": [
       "Date\n",
       "2014-01-31   -0.156909\n",
       "2014-02-28    0.193514\n",
       "2014-03-31    0.086680\n",
       "2014-04-30   -0.152195\n",
       "2014-05-30    0.065555\n",
       "2014-06-30    0.399669\n",
       "2014-07-31   -0.121010\n",
       "2014-08-29    0.025431\n",
       "2014-09-30   -0.051508\n",
       "2014-10-31    0.009679\n",
       "2014-11-28    0.051668\n",
       "2014-12-31    0.136617\n",
       "Freq: BM, Name: Adj Close, dtype: float64"
      ]
     },
     "execution_count": 20,
     "metadata": {},
     "output_type": "execute_result"
    }
   ],
   "source": [
    "m_returns = ret_index.resample('BM', how='last').pct_change()\n",
    "m_returns['2014']"
   ]
  },
  {
   "cell_type": "code",
   "execution_count": 21,
   "metadata": {
    "collapsed": true
   },
   "outputs": [],
   "source": [
    "# random portfolio construction and analysis...\n",
    "\n",
    "import random; random.seed(0)\n",
    "import string\n",
    "\n",
    "N = 1000\n",
    "\n",
    "def rands(n):\n",
    "    choices = string.ascii_uppercase\n",
    "    return ''.join([random.choice(choices) for _ in xrange(n)])\n",
    "\n",
    "tickers = np.array([rands(5) for _ in xrange(N)])"
   ]
  },
  {
   "cell_type": "code",
   "execution_count": 22,
   "metadata": {
    "collapsed": false
   },
   "outputs": [
    {
     "data": {
      "text/html": [
       "<div>\n",
       "<table border=\"1\" class=\"dataframe\">\n",
       "  <thead>\n",
       "    <tr style=\"text-align: right;\">\n",
       "      <th></th>\n",
       "      <th></th>\n",
       "      <th>Momentum</th>\n",
       "      <th>ShortInterest</th>\n",
       "      <th>Value</th>\n",
       "    </tr>\n",
       "    <tr>\n",
       "      <th>industry</th>\n",
       "      <th></th>\n",
       "      <th></th>\n",
       "      <th></th>\n",
       "      <th></th>\n",
       "    </tr>\n",
       "  </thead>\n",
       "  <tbody>\n",
       "    <tr>\n",
       "      <th rowspan=\"8\" valign=\"top\">FINANCIAL</th>\n",
       "      <th>count</th>\n",
       "      <td>260.000000</td>\n",
       "      <td>260.000000</td>\n",
       "      <td>260.000000</td>\n",
       "    </tr>\n",
       "    <tr>\n",
       "      <th>mean</th>\n",
       "      <td>0.030110</td>\n",
       "      <td>-0.020596</td>\n",
       "      <td>0.079591</td>\n",
       "    </tr>\n",
       "    <tr>\n",
       "      <th>std</th>\n",
       "      <td>0.005108</td>\n",
       "      <td>0.004875</td>\n",
       "      <td>0.005000</td>\n",
       "    </tr>\n",
       "    <tr>\n",
       "      <th>min</th>\n",
       "      <td>0.012838</td>\n",
       "      <td>-0.033282</td>\n",
       "      <td>0.066728</td>\n",
       "    </tr>\n",
       "    <tr>\n",
       "      <th>25%</th>\n",
       "      <td>0.027155</td>\n",
       "      <td>-0.023809</td>\n",
       "      <td>0.075716</td>\n",
       "    </tr>\n",
       "    <tr>\n",
       "      <th>50%</th>\n",
       "      <td>0.030155</td>\n",
       "      <td>-0.020421</td>\n",
       "      <td>0.079548</td>\n",
       "    </tr>\n",
       "    <tr>\n",
       "      <th>75%</th>\n",
       "      <td>0.032983</td>\n",
       "      <td>-0.017316</td>\n",
       "      <td>0.083114</td>\n",
       "    </tr>\n",
       "    <tr>\n",
       "      <th>max</th>\n",
       "      <td>0.044590</td>\n",
       "      <td>-0.001983</td>\n",
       "      <td>0.093036</td>\n",
       "    </tr>\n",
       "    <tr>\n",
       "      <th rowspan=\"8\" valign=\"top\">TECH</th>\n",
       "      <th>count</th>\n",
       "      <td>240.000000</td>\n",
       "      <td>240.000000</td>\n",
       "      <td>240.000000</td>\n",
       "    </tr>\n",
       "    <tr>\n",
       "      <th>mean</th>\n",
       "      <td>0.029644</td>\n",
       "      <td>-0.019792</td>\n",
       "      <td>0.080187</td>\n",
       "    </tr>\n",
       "    <tr>\n",
       "      <th>std</th>\n",
       "      <td>0.004785</td>\n",
       "      <td>0.005229</td>\n",
       "      <td>0.005262</td>\n",
       "    </tr>\n",
       "    <tr>\n",
       "      <th>min</th>\n",
       "      <td>0.016124</td>\n",
       "      <td>-0.038178</td>\n",
       "      <td>0.062489</td>\n",
       "    </tr>\n",
       "    <tr>\n",
       "      <th>25%</th>\n",
       "      <td>0.026154</td>\n",
       "      <td>-0.022796</td>\n",
       "      <td>0.076684</td>\n",
       "    </tr>\n",
       "    <tr>\n",
       "      <th>50%</th>\n",
       "      <td>0.029742</td>\n",
       "      <td>-0.019716</td>\n",
       "      <td>0.079786</td>\n",
       "    </tr>\n",
       "    <tr>\n",
       "      <th>75%</th>\n",
       "      <td>0.032432</td>\n",
       "      <td>-0.016317</td>\n",
       "      <td>0.083419</td>\n",
       "    </tr>\n",
       "    <tr>\n",
       "      <th>max</th>\n",
       "      <td>0.042533</td>\n",
       "      <td>-0.004601</td>\n",
       "      <td>0.096364</td>\n",
       "    </tr>\n",
       "  </tbody>\n",
       "</table>\n",
       "</div>"
      ],
      "text/plain": [
       "                   Momentum  ShortInterest       Value\n",
       "industry                                              \n",
       "FINANCIAL count  260.000000     260.000000  260.000000\n",
       "          mean     0.030110      -0.020596    0.079591\n",
       "          std      0.005108       0.004875    0.005000\n",
       "          min      0.012838      -0.033282    0.066728\n",
       "          25%      0.027155      -0.023809    0.075716\n",
       "          50%      0.030155      -0.020421    0.079548\n",
       "          75%      0.032983      -0.017316    0.083114\n",
       "          max      0.044590      -0.001983    0.093036\n",
       "TECH      count  240.000000     240.000000  240.000000\n",
       "          mean     0.029644      -0.019792    0.080187\n",
       "          std      0.004785       0.005229    0.005262\n",
       "          min      0.016124      -0.038178    0.062489\n",
       "          25%      0.026154      -0.022796    0.076684\n",
       "          50%      0.029742      -0.019716    0.079786\n",
       "          75%      0.032432      -0.016317    0.083419\n",
       "          max      0.042533      -0.004601    0.096364"
      ]
     },
     "execution_count": 22,
     "metadata": {},
     "output_type": "execute_result"
    }
   ],
   "source": [
    "M=500\n",
    "df = DataFrame({'Momentum': np.random.randn(M) / 200 +.03,\n",
    "                'Value': np.random.randn(M) / 200 + .08,\n",
    "                'ShortInterest': np.random.randn(M) / 200 - .02,},\n",
    "                index=tickers[:M])\n",
    "\n",
    "industry_names = np.array(['FINANCIAL', 'TECH'])\n",
    "sampler = np.random.randint(0, len(industry_names), N)\n",
    "industries = Series(industry_names[sampler], index=tickers, name='industry')\n",
    "\n",
    "by_industry = df.groupby(industries)\n",
    "by_industry.describe()"
   ]
  },
  {
   "cell_type": "code",
   "execution_count": 23,
   "metadata": {
    "collapsed": false
   },
   "outputs": [
    {
     "data": {
      "text/html": [
       "<div>\n",
       "<table border=\"1\" class=\"dataframe\">\n",
       "  <thead>\n",
       "    <tr style=\"text-align: right;\">\n",
       "      <th></th>\n",
       "      <th>Momentum</th>\n",
       "      <th>ShortInterest</th>\n",
       "      <th>Value</th>\n",
       "    </tr>\n",
       "  </thead>\n",
       "  <tbody>\n",
       "    <tr>\n",
       "      <th>VTKGN</th>\n",
       "      <td>0.015996</td>\n",
       "      <td>0.780923</td>\n",
       "      <td>1.479312</td>\n",
       "    </tr>\n",
       "    <tr>\n",
       "      <th>KUHMP</th>\n",
       "      <td>0.792130</td>\n",
       "      <td>-0.702819</td>\n",
       "      <td>1.528990</td>\n",
       "    </tr>\n",
       "    <tr>\n",
       "      <th>XNHTQ</th>\n",
       "      <td>1.097234</td>\n",
       "      <td>0.311306</td>\n",
       "      <td>-0.679479</td>\n",
       "    </tr>\n",
       "    <tr>\n",
       "      <th>GXZVX</th>\n",
       "      <td>-0.298417</td>\n",
       "      <td>-0.098052</td>\n",
       "      <td>1.082691</td>\n",
       "    </tr>\n",
       "    <tr>\n",
       "      <th>ISXRM</th>\n",
       "      <td>0.186279</td>\n",
       "      <td>1.224383</td>\n",
       "      <td>-0.337701</td>\n",
       "    </tr>\n",
       "  </tbody>\n",
       "</table>\n",
       "</div>"
      ],
      "text/plain": [
       "       Momentum  ShortInterest     Value\n",
       "VTKGN  0.015996       0.780923  1.479312\n",
       "KUHMP  0.792130      -0.702819  1.528990\n",
       "XNHTQ  1.097234       0.311306 -0.679479\n",
       "GXZVX -0.298417      -0.098052  1.082691\n",
       "ISXRM  0.186279       1.224383 -0.337701"
      ]
     },
     "execution_count": 23,
     "metadata": {},
     "output_type": "execute_result"
    }
   ],
   "source": [
    "def zscore(group):\n",
    "    return (group - group.mean()) / group.std()\n",
    "\n",
    "df_stand = by_industry.apply(zscore)\n",
    "\n",
    "df_stand.head()"
   ]
  },
  {
   "cell_type": "code",
   "execution_count": 24,
   "metadata": {
    "collapsed": false
   },
   "outputs": [
    {
     "data": {
      "text/html": [
       "<div>\n",
       "<table border=\"1\" class=\"dataframe\">\n",
       "  <thead>\n",
       "    <tr>\n",
       "      <th></th>\n",
       "      <th colspan=\"2\" halign=\"left\">Momentum</th>\n",
       "      <th colspan=\"2\" halign=\"left\">ShortInterest</th>\n",
       "      <th colspan=\"2\" halign=\"left\">Value</th>\n",
       "    </tr>\n",
       "    <tr>\n",
       "      <th></th>\n",
       "      <th>mean</th>\n",
       "      <th>std</th>\n",
       "      <th>mean</th>\n",
       "      <th>std</th>\n",
       "      <th>mean</th>\n",
       "      <th>std</th>\n",
       "    </tr>\n",
       "    <tr>\n",
       "      <th>industry</th>\n",
       "      <th></th>\n",
       "      <th></th>\n",
       "      <th></th>\n",
       "      <th></th>\n",
       "      <th></th>\n",
       "      <th></th>\n",
       "    </tr>\n",
       "  </thead>\n",
       "  <tbody>\n",
       "    <tr>\n",
       "      <th>FINANCIAL</th>\n",
       "      <td>-1.972781e-15</td>\n",
       "      <td>1</td>\n",
       "      <td>-2.878040e-16</td>\n",
       "      <td>1</td>\n",
       "      <td>4.696243e-15</td>\n",
       "      <td>1</td>\n",
       "    </tr>\n",
       "    <tr>\n",
       "      <th>TECH</th>\n",
       "      <td>7.577272e-16</td>\n",
       "      <td>1</td>\n",
       "      <td>-2.110812e-15</td>\n",
       "      <td>1</td>\n",
       "      <td>1.667740e-14</td>\n",
       "      <td>1</td>\n",
       "    </tr>\n",
       "  </tbody>\n",
       "</table>\n",
       "</div>"
      ],
      "text/plain": [
       "               Momentum     ShortInterest             Value    \n",
       "                   mean std          mean std          mean std\n",
       "industry                                                       \n",
       "FINANCIAL -1.972781e-15   1 -2.878040e-16   1  4.696243e-15   1\n",
       "TECH       7.577272e-16   1 -2.110812e-15   1  1.667740e-14   1"
      ]
     },
     "execution_count": 24,
     "metadata": {},
     "output_type": "execute_result"
    }
   ],
   "source": [
    "#check that groups have been normalized as expected...\n",
    "df_stand.groupby(industries).agg(['mean', 'std'])"
   ]
  },
  {
   "cell_type": "code",
   "execution_count": 25,
   "metadata": {
    "collapsed": false
   },
   "outputs": [
    {
     "data": {
      "text/html": [
       "<div>\n",
       "<table border=\"1\" class=\"dataframe\">\n",
       "  <thead>\n",
       "    <tr>\n",
       "      <th></th>\n",
       "      <th colspan=\"2\" halign=\"left\">Momentum</th>\n",
       "      <th colspan=\"2\" halign=\"left\">ShortInterest</th>\n",
       "      <th colspan=\"2\" halign=\"left\">Value</th>\n",
       "    </tr>\n",
       "    <tr>\n",
       "      <th></th>\n",
       "      <th>min</th>\n",
       "      <th>max</th>\n",
       "      <th>min</th>\n",
       "      <th>max</th>\n",
       "      <th>min</th>\n",
       "      <th>max</th>\n",
       "    </tr>\n",
       "    <tr>\n",
       "      <th>industry</th>\n",
       "      <th></th>\n",
       "      <th></th>\n",
       "      <th></th>\n",
       "      <th></th>\n",
       "      <th></th>\n",
       "      <th></th>\n",
       "    </tr>\n",
       "  </thead>\n",
       "  <tbody>\n",
       "    <tr>\n",
       "      <th>FINANCIAL</th>\n",
       "      <td>1</td>\n",
       "      <td>260</td>\n",
       "      <td>1</td>\n",
       "      <td>260</td>\n",
       "      <td>1</td>\n",
       "      <td>260</td>\n",
       "    </tr>\n",
       "    <tr>\n",
       "      <th>TECH</th>\n",
       "      <td>1</td>\n",
       "      <td>240</td>\n",
       "      <td>1</td>\n",
       "      <td>240</td>\n",
       "      <td>1</td>\n",
       "      <td>240</td>\n",
       "    </tr>\n",
       "  </tbody>\n",
       "</table>\n",
       "</div>"
      ],
      "text/plain": [
       "          Momentum      ShortInterest      Value     \n",
       "               min  max           min  max   min  max\n",
       "industry                                             \n",
       "FINANCIAL        1  260             1  260     1  260\n",
       "TECH             1  240             1  240     1  240"
      ]
     },
     "execution_count": 25,
     "metadata": {},
     "output_type": "execute_result"
    }
   ],
   "source": [
    "ind_rank = by_industry.rank(ascending=False)\n",
    "ind_rank.groupby(industries).agg(['min', 'max'])"
   ]
  },
  {
   "cell_type": "code",
   "execution_count": 26,
   "metadata": {
    "collapsed": false
   },
   "outputs": [
    {
     "data": {
      "text/plain": [
       "f1    0.421908\n",
       "f2   -0.682415\n",
       "f3    0.166698\n",
       "dtype: float64"
      ]
     },
     "execution_count": 26,
     "metadata": {},
     "output_type": "execute_result"
    }
   ],
   "source": [
    "from numpy.random import rand\n",
    "\n",
    "fac1, fac2, fac3 = rand(3, 1000)\n",
    "\n",
    "ticker_subset = tickers.take(np.random.permutation(N)[:1000])\n",
    "\n",
    "port = Series(.7*fac1 - 1.2*fac2 + .3*fac3 + rand(1000), index=ticker_subset)\n",
    "factors = DataFrame({'f1': fac1, 'f2': fac2, 'f3': fac3}, index=ticker_subset)\n",
    "\n",
    "factors.corrwith(port)"
   ]
  },
  {
   "cell_type": "code",
   "execution_count": 27,
   "metadata": {
    "collapsed": false
   },
   "outputs": [
    {
     "data": {
      "text/plain": [
       "f1           0.736637\n",
       "f2          -1.227447\n",
       "f3           0.289615\n",
       "intercept    0.506998\n",
       "dtype: float64"
      ]
     },
     "execution_count": 27,
     "metadata": {},
     "output_type": "execute_result"
    }
   ],
   "source": [
    "pd.ols(y=port, x=factors).beta"
   ]
  },
  {
   "cell_type": "code",
   "execution_count": 28,
   "metadata": {
    "collapsed": false
   },
   "outputs": [
    {
     "data": {
      "text/html": [
       "<div>\n",
       "<table border=\"1\" class=\"dataframe\">\n",
       "  <thead>\n",
       "    <tr style=\"text-align: right;\">\n",
       "      <th></th>\n",
       "      <th>f1</th>\n",
       "      <th>f2</th>\n",
       "      <th>f3</th>\n",
       "      <th>intercept</th>\n",
       "    </tr>\n",
       "    <tr>\n",
       "      <th>industry</th>\n",
       "      <th></th>\n",
       "      <th></th>\n",
       "      <th></th>\n",
       "      <th></th>\n",
       "    </tr>\n",
       "  </thead>\n",
       "  <tbody>\n",
       "    <tr>\n",
       "      <th>FINANCIAL</th>\n",
       "      <td>0.757627</td>\n",
       "      <td>-1.198895</td>\n",
       "      <td>0.301736</td>\n",
       "      <td>0.481732</td>\n",
       "    </tr>\n",
       "    <tr>\n",
       "      <th>TECH</th>\n",
       "      <td>0.711002</td>\n",
       "      <td>-1.260027</td>\n",
       "      <td>0.283412</td>\n",
       "      <td>0.531804</td>\n",
       "    </tr>\n",
       "  </tbody>\n",
       "</table>\n",
       "</div>"
      ],
      "text/plain": [
       "                 f1        f2        f3  intercept\n",
       "industry                                          \n",
       "FINANCIAL  0.757627 -1.198895  0.301736   0.481732\n",
       "TECH       0.711002 -1.260027  0.283412   0.531804"
      ]
     },
     "execution_count": 28,
     "metadata": {},
     "output_type": "execute_result"
    }
   ],
   "source": [
    "def beta_exposure(chunk, factors=None):\n",
    "    return pd.ols(y=chunk, x=factors).beta\n",
    "\n",
    "by_ind = port.groupby(industries)\n",
    "exposures = by_ind.apply(beta_exposure, factors=factors)\n",
    "exposures.unstack()"
   ]
  },
  {
   "cell_type": "code",
   "execution_count": 29,
   "metadata": {
    "collapsed": false
   },
   "outputs": [
    {
     "name": "stdout",
     "output_type": "stream",
     "text": [
      "<class 'pandas.core.frame.DataFrame'>\n",
      "DatetimeIndex: 1470 entries, 2010-01-04 to 2015-11-03\n",
      "Data columns (total 6 columns):\n",
      "Open         1470 non-null float64\n",
      "High         1470 non-null float64\n",
      "Low          1470 non-null float64\n",
      "Close        1470 non-null float64\n",
      "Volume       1470 non-null int64\n",
      "Adj Close    1470 non-null float64\n",
      "dtypes: float64(5), int64(1)\n",
      "memory usage: 80.4 KB\n"
     ]
    }
   ],
   "source": [
    "data = web.get_data_yahoo('SPY', '2010-01-01')\n",
    "data.info()"
   ]
  },
  {
   "cell_type": "code",
   "execution_count": 30,
   "metadata": {
    "collapsed": true
   },
   "outputs": [],
   "source": [
    "px = data['Adj Close']\n",
    "returns = px.pct_change()\n",
    "\n",
    "def to_index(rets):\n",
    "    index = (1+rets).cumprod()\n",
    "    first_loc = max(index.index.get_loc(index.idxmax()) - 1, 0)\n",
    "    index.values[first_loc] = 1\n",
    "    return index\n",
    "\n",
    "def trend_signal(rets, lookback, lag):\n",
    "    signal = pd.rolling_sum(rets, lookback, min_periods=lookback - 5)\n",
    "    return signal.shift(lag)\n",
    "\n",
    "signal = trend_signal(returns, 100, 3)\n",
    "trade_friday = signal.resample('W-FRI').resample('B', fill_method='ffill')\n",
    "trade_rets = trade_friday.shift(1) * returns\n",
    "trade_rets = trade_rets[:len(returns)]"
   ]
  },
  {
   "cell_type": "code",
   "execution_count": 31,
   "metadata": {
    "collapsed": false
   },
   "outputs": [
    {
     "data": {
      "text/plain": [
       "<matplotlib.axes._subplots.AxesSubplot at 0x10b7902d0>"
      ]
     },
     "execution_count": 31,
     "metadata": {},
     "output_type": "execute_result"
    },
    {
     "data": {
      "image/png": "[encoded data removed]",
      "text/plain": [
       "<matplotlib.figure.Figure at 0x10b750e10>"
      ]
     },
     "metadata": {},
     "output_type": "display_data"
    }
   ],
   "source": [
    "to_index(trade_rets).plot()"
   ]
  },
  {
   "cell_type": "code",
   "execution_count": 32,
   "metadata": {
    "collapsed": false
   },
   "outputs": [
    {
     "data": {
      "text/plain": [
       "[0.0998, 0.115]   -0.165986\n",
       "(0.115, 0.128]     1.148638\n",
       "(0.128, 0.18]      0.836280\n",
       "(0.18, 0.232]     -0.114015\n",
       "dtype: float64"
      ]
     },
     "execution_count": 32,
     "metadata": {},
     "output_type": "execute_result"
    }
   ],
   "source": [
    "vol = pd.rolling_std(returns, 250, min_periods=200) * np.sqrt(250)\n",
    "\n",
    "def sharpe(rets, ann=250):\n",
    "    return rets.mean() / rets.std() * np.sqrt(ann)\n",
    "\n",
    "trade_rets.groupby(pd.qcut(vol, 4)).agg(sharpe)"
   ]
  },
  {
   "cell_type": "markdown",
   "metadata": {},
   "source": [
    "### Signal Frontier Analysis"
   ]
  },
  {
   "cell_type": "code",
   "execution_count": 34,
   "metadata": {
    "collapsed": false
   },
   "outputs": [
    {
     "data": {
      "text/html": [
       "<div>\n",
       "<table border=\"1\" class=\"dataframe\">\n",
       "  <thead>\n",
       "    <tr style=\"text-align: right;\">\n",
       "      <th></th>\n",
       "      <th>AAPL</th>\n",
       "      <th>BAC</th>\n",
       "      <th>C</th>\n",
       "      <th>DELL</th>\n",
       "      <th>GOOGL</th>\n",
       "      <th>GS</th>\n",
       "      <th>MS</th>\n",
       "      <th>MSFT</th>\n",
       "    </tr>\n",
       "    <tr>\n",
       "      <th>Date</th>\n",
       "      <th></th>\n",
       "      <th></th>\n",
       "      <th></th>\n",
       "      <th></th>\n",
       "      <th></th>\n",
       "      <th></th>\n",
       "      <th></th>\n",
       "      <th></th>\n",
       "    </tr>\n",
       "  </thead>\n",
       "  <tbody>\n",
       "    <tr>\n",
       "      <th>2009-01-02</th>\n",
       "      <td>12.122906</td>\n",
       "      <td>13.809441</td>\n",
       "      <td>70.755849</td>\n",
       "      <td>10.39902</td>\n",
       "      <td>160.820818</td>\n",
       "      <td>79.644527</td>\n",
       "      <td>15.632794</td>\n",
       "      <td>17.068378</td>\n",
       "    </tr>\n",
       "    <tr>\n",
       "      <th>2009-01-05</th>\n",
       "      <td>12.634540</td>\n",
       "      <td>13.472155</td>\n",
       "      <td>70.161264</td>\n",
       "      <td>10.26359</td>\n",
       "      <td>164.189196</td>\n",
       "      <td>81.498857</td>\n",
       "      <td>16.212469</td>\n",
       "      <td>17.227896</td>\n",
       "    </tr>\n",
       "    <tr>\n",
       "      <th>2009-01-06</th>\n",
       "      <td>12.426146</td>\n",
       "      <td>13.761257</td>\n",
       "      <td>73.926976</td>\n",
       "      <td>10.68922</td>\n",
       "      <td>167.197207</td>\n",
       "      <td>81.434599</td>\n",
       "      <td>18.015898</td>\n",
       "      <td>17.429391</td>\n",
       "    </tr>\n",
       "    <tr>\n",
       "      <th>2009-01-07</th>\n",
       "      <td>12.157638</td>\n",
       "      <td>13.211963</td>\n",
       "      <td>70.854945</td>\n",
       "      <td>10.78596</td>\n",
       "      <td>161.166170</td>\n",
       "      <td>77.569875</td>\n",
       "      <td>16.654125</td>\n",
       "      <td>16.379934</td>\n",
       "    </tr>\n",
       "    <tr>\n",
       "      <th>2009-01-08</th>\n",
       "      <td>12.383398</td>\n",
       "      <td>13.048139</td>\n",
       "      <td>70.954042</td>\n",
       "      <td>10.90204</td>\n",
       "      <td>162.757769</td>\n",
       "      <td>78.405247</td>\n",
       "      <td>17.316609</td>\n",
       "      <td>16.892070</td>\n",
       "    </tr>\n",
       "  </tbody>\n",
       "</table>\n",
       "</div>"
      ],
      "text/plain": [
       "                 AAPL        BAC          C      DELL       GOOGL         GS  \\\n",
       "Date                                                                           \n",
       "2009-01-02  12.122906  13.809441  70.755849  10.39902  160.820818  79.644527   \n",
       "2009-01-05  12.634540  13.472155  70.161264  10.26359  164.189196  81.498857   \n",
       "2009-01-06  12.426146  13.761257  73.926976  10.68922  167.197207  81.434599   \n",
       "2009-01-07  12.157638  13.211963  70.854945  10.78596  161.166170  77.569875   \n",
       "2009-01-08  12.383398  13.048139  70.954042  10.90204  162.757769  78.405247   \n",
       "\n",
       "                   MS       MSFT  \n",
       "Date                              \n",
       "2009-01-02  15.632794  17.068378  \n",
       "2009-01-05  16.212469  17.227896  \n",
       "2009-01-06  18.015898  17.429391  \n",
       "2009-01-07  16.654125  16.379934  \n",
       "2009-01-08  17.316609  16.892070  "
      ]
     },
     "execution_count": 34,
     "metadata": {},
     "output_type": "execute_result"
    }
   ],
   "source": [
    "names = ['AAPL', 'GOOGL', 'MSFT', 'DELL', 'GS', 'MS', 'BAC', 'C']\n",
    "\n",
    "def get_px(stock, start, end):\n",
    "    return web.get_data_yahoo(stock, start, end)['Adj Close']\n",
    "\n",
    "px = DataFrame({n: get_px(n, '1/1/2009', '6/1/2012') for n in names})\n",
    "px.head()"
   ]
  },
  {
   "cell_type": "code",
   "execution_count": 35,
   "metadata": {
    "collapsed": false
   },
   "outputs": [
    {
     "data": {
      "image/png": "[encoded data removed]",
      "text/plain": [
       "<matplotlib.figure.Figure at 0x10793d410>"
      ]
     },
     "metadata": {},
     "output_type": "display_data"
    }
   ],
   "source": [
    "px = px.asfreq('B').fillna(method='pad')\n",
    "rets = px.pct_change()\n",
    "\n",
    "((1+rets).cumprod()-1).plot();"
   ]
  },
  {
   "cell_type": "code",
   "execution_count": 38,
   "metadata": {
    "collapsed": true
   },
   "outputs": [],
   "source": [
    "def calc_mom(price, lookback, lag):\n",
    "    mom_ret = price.shift(lag).pct_change(lookback)\n",
    "    ranks = mom_ret.rank(axis=1, ascending=False)\n",
    "    demeaned = ranks.subtract(ranks.mean(axis=1), axis=0)\n",
    "    return  demeaned.divide(demeaned.std(axis=1), axis=0)\n",
    "\n",
    "compound = lambda x : (1 + x).prod() - 1\n",
    "daily_sr = lambda x: x.mean() / x.std()\n",
    "\n",
    "def strat_sr(prices, lb, hold):\n",
    "    '''Calculates the Sharpe Ratio'''\n",
    "    # compute portfolio weights\n",
    "    freq = '%dB' % hold\n",
    "    port = calc_mom(prices, lb, lag=1)\n",
    "    \n",
    "    daily_rets = prices.pct_change()\n",
    "    \n",
    "    # compute portfolio returns\n",
    "    port = port.shift(1).resample(freq, how='first')\n",
    "    returns = daily_rets.resample(freq, how=compound)\n",
    "    port_rets = (port*returns).sum(axis=1)\n",
    "    \n",
    "    return daily_sr(port_rets) * np.sqrt(252/hold)"
   ]
  },
  {
   "cell_type": "code",
   "execution_count": 39,
   "metadata": {
    "collapsed": false
   },
   "outputs": [
    {
     "data": {
      "text/plain": [
       "0.30444744900634063"
      ]
     },
     "execution_count": 39,
     "metadata": {},
     "output_type": "execute_result"
    }
   ],
   "source": [
    "strat_sr(px, 70, 30)"
   ]
  },
  {
   "cell_type": "code",
   "execution_count": 41,
   "metadata": {
    "collapsed": false
   },
   "outputs": [
    {
     "data": {
      "text/html": [
       "<div>\n",
       "<table border=\"1\" class=\"dataframe\">\n",
       "  <thead>\n",
       "    <tr style=\"text-align: right;\">\n",
       "      <th>Lookback Period</th>\n",
       "      <th>20</th>\n",
       "      <th>25</th>\n",
       "      <th>30</th>\n",
       "      <th>35</th>\n",
       "      <th>40</th>\n",
       "      <th>45</th>\n",
       "      <th>50</th>\n",
       "      <th>55</th>\n",
       "      <th>60</th>\n",
       "      <th>65</th>\n",
       "      <th>70</th>\n",
       "      <th>75</th>\n",
       "      <th>80</th>\n",
       "      <th>85</th>\n",
       "    </tr>\n",
       "    <tr>\n",
       "      <th>Holding Period</th>\n",
       "      <th></th>\n",
       "      <th></th>\n",
       "      <th></th>\n",
       "      <th></th>\n",
       "      <th></th>\n",
       "      <th></th>\n",
       "      <th></th>\n",
       "      <th></th>\n",
       "      <th></th>\n",
       "      <th></th>\n",
       "      <th></th>\n",
       "      <th></th>\n",
       "      <th></th>\n",
       "      <th></th>\n",
       "    </tr>\n",
       "  </thead>\n",
       "  <tbody>\n",
       "    <tr>\n",
       "      <th>20</th>\n",
       "      <td>-0.562695</td>\n",
       "      <td>-0.299210</td>\n",
       "      <td>-0.271974</td>\n",
       "      <td>-0.418584</td>\n",
       "      <td>-0.032874</td>\n",
       "      <td>-0.592000</td>\n",
       "      <td>-0.005617</td>\n",
       "      <td>0.021158</td>\n",
       "      <td>-0.035753</td>\n",
       "      <td>-0.098562</td>\n",
       "      <td>-0.212870</td>\n",
       "      <td>0.037690</td>\n",
       "      <td>0.127729</td>\n",
       "      <td>-0.036643</td>\n",
       "    </tr>\n",
       "    <tr>\n",
       "      <th>25</th>\n",
       "      <td>-0.049578</td>\n",
       "      <td>-0.031337</td>\n",
       "      <td>0.334114</td>\n",
       "      <td>0.436281</td>\n",
       "      <td>0.106439</td>\n",
       "      <td>0.099840</td>\n",
       "      <td>0.321668</td>\n",
       "      <td>0.390807</td>\n",
       "      <td>0.200173</td>\n",
       "      <td>0.267779</td>\n",
       "      <td>0.209050</td>\n",
       "      <td>-0.249999</td>\n",
       "      <td>-0.258210</td>\n",
       "      <td>-0.281511</td>\n",
       "    </tr>\n",
       "    <tr>\n",
       "      <th>30</th>\n",
       "      <td>-0.557074</td>\n",
       "      <td>-0.625025</td>\n",
       "      <td>-0.307921</td>\n",
       "      <td>-0.233986</td>\n",
       "      <td>-0.186913</td>\n",
       "      <td>-0.235558</td>\n",
       "      <td>0.035855</td>\n",
       "      <td>0.016800</td>\n",
       "      <td>0.178851</td>\n",
       "      <td>0.296990</td>\n",
       "      <td>0.304447</td>\n",
       "      <td>0.388458</td>\n",
       "      <td>0.197451</td>\n",
       "      <td>0.089610</td>\n",
       "    </tr>\n",
       "    <tr>\n",
       "      <th>35</th>\n",
       "      <td>-0.042264</td>\n",
       "      <td>0.097554</td>\n",
       "      <td>0.029138</td>\n",
       "      <td>0.503971</td>\n",
       "      <td>0.181438</td>\n",
       "      <td>0.150815</td>\n",
       "      <td>0.073701</td>\n",
       "      <td>0.376385</td>\n",
       "      <td>0.505850</td>\n",
       "      <td>0.496068</td>\n",
       "      <td>0.045812</td>\n",
       "      <td>-0.191286</td>\n",
       "      <td>-0.053674</td>\n",
       "      <td>0.027425</td>\n",
       "    </tr>\n",
       "    <tr>\n",
       "      <th>40</th>\n",
       "      <td>-0.215389</td>\n",
       "      <td>-0.189692</td>\n",
       "      <td>-0.229553</td>\n",
       "      <td>-0.264460</td>\n",
       "      <td>0.103415</td>\n",
       "      <td>-0.072264</td>\n",
       "      <td>-0.082617</td>\n",
       "      <td>0.093904</td>\n",
       "      <td>0.180388</td>\n",
       "      <td>0.091423</td>\n",
       "      <td>-0.128584</td>\n",
       "      <td>-0.178399</td>\n",
       "      <td>-0.127264</td>\n",
       "      <td>-0.040381</td>\n",
       "    </tr>\n",
       "  </tbody>\n",
       "</table>\n",
       "</div>"
      ],
      "text/plain": [
       "Lookback Period        20        25        30        35        40        45  \\\n",
       "Holding Period                                                                \n",
       "20              -0.562695 -0.299210 -0.271974 -0.418584 -0.032874 -0.592000   \n",
       "25              -0.049578 -0.031337  0.334114  0.436281  0.106439  0.099840   \n",
       "30              -0.557074 -0.625025 -0.307921 -0.233986 -0.186913 -0.235558   \n",
       "35              -0.042264  0.097554  0.029138  0.503971  0.181438  0.150815   \n",
       "40              -0.215389 -0.189692 -0.229553 -0.264460  0.103415 -0.072264   \n",
       "\n",
       "Lookback Period        50        55        60        65        70        75  \\\n",
       "Holding Period                                                                \n",
       "20              -0.005617  0.021158 -0.035753 -0.098562 -0.212870  0.037690   \n",
       "25               0.321668  0.390807  0.200173  0.267779  0.209050 -0.249999   \n",
       "30               0.035855  0.016800  0.178851  0.296990  0.304447  0.388458   \n",
       "35               0.073701  0.376385  0.505850  0.496068  0.045812 -0.191286   \n",
       "40              -0.082617  0.093904  0.180388  0.091423 -0.128584 -0.178399   \n",
       "\n",
       "Lookback Period        80        85  \n",
       "Holding Period                       \n",
       "20               0.127729 -0.036643  \n",
       "25              -0.258210 -0.281511  \n",
       "30               0.197451  0.089610  \n",
       "35              -0.053674  0.027425  \n",
       "40              -0.127264 -0.040381  "
      ]
     },
     "execution_count": 41,
     "metadata": {},
     "output_type": "execute_result"
    }
   ],
   "source": [
    "# now grid search across parameters for optimal Sharpe Ratio...\n",
    "\n",
    "from collections import defaultdict\n",
    "\n",
    "lookbacks = range(20,90,5)\n",
    "holdings = range(20,90,5)\n",
    "dd = defaultdict(dict)\n",
    "\n",
    "for lb in lookbacks:\n",
    "    for hold in holdings:\n",
    "        dd[lb][hold] = strat_sr(px, lb, hold)\n",
    "\n",
    "ddf = DataFrame(dd)\n",
    "ddf.index.name = 'Holding Period'\n",
    "ddf.columns.name = 'Lookback Period'\n",
    "\n",
    "ddf.head()"
   ]
  },
  {
   "cell_type": "code",
   "execution_count": 46,
   "metadata": {
    "collapsed": false
   },
   "outputs": [
    {
     "data": {
      "image/png": "[encoded data removed]",
      "text/plain": [
       "<matplotlib.figure.Figure at 0x10d2e8c90>"
      ]
     },
     "metadata": {},
     "output_type": "display_data"
    }
   ],
   "source": [
    "import matplotlib.pyplot as plt\n",
    "\n",
    "def heatmap(df, cmap=plt.cm.gray_r):\n",
    "    fig = plt.figure()\n",
    "    ax = fig.add_subplot(111)\n",
    "    axim = ax.imshow(df.values, cmap=cmap, interpolation='nearest')\n",
    "    ax.set_xlabel(df.columns.name)\n",
    "    ax.set_xticks(np.arange(len(df.columns)))\n",
    "    ax.set_xticklabels(list(df.columns))\n",
    "    ax.set_ylabel(df.index.name)\n",
    "    ax.set_yticks(np.arange(len(df.index)))\n",
    "    ax.set_yticklabels(list(df.index))\n",
    "    plt.colorbar(axim)\n",
    "    \n",
    "heatmap(ddf)"
   ]
  },
  {
   "cell_type": "markdown",
   "metadata": {},
   "source": [
    "### Future Contract Rolling"
   ]
  },
  {
   "cell_type": "code",
   "execution_count": 47,
   "metadata": {
    "collapsed": false
   },
   "outputs": [
    {
     "data": {
      "text/plain": [
       "Date\n",
       "2010-01-04    1009.20266\n",
       "2010-01-05    1011.87412\n",
       "2010-01-06    1012.58654\n",
       "2010-01-07    1016.86096\n",
       "2010-01-08    1020.24483\n",
       "Name: Adj Close, dtype: float64"
      ]
     },
     "execution_count": 47,
     "metadata": {},
     "output_type": "execute_result"
    }
   ],
   "source": [
    "# use SPY as a proxy...\n",
    "import pandas.io.data as web\n",
    "\n",
    "px = web.get_data_yahoo('SPY')['Adj Close'] * 10\n",
    "px.head()"
   ]
  },
  {
   "cell_type": "code",
   "execution_count": 48,
   "metadata": {
    "collapsed": false
   },
   "outputs": [
    {
     "data": {
      "text/plain": [
       "ESU2   2012-09-21\n",
       "EZ2    2012-12-21\n",
       "dtype: datetime64[ns]"
      ]
     },
     "execution_count": 48,
     "metadata": {},
     "output_type": "execute_result"
    }
   ],
   "source": [
    "# create two contract exp dates...\n",
    "from datetime import datetime\n",
    "\n",
    "expiry = {'ESU2' : datetime(2012,9,21), 'EZ2': datetime(2012,12,21)}\n",
    "expiry = Series(expiry).order()\n",
    "expiry"
   ]
  },
  {
   "cell_type": "code",
   "execution_count": 51,
   "metadata": {
    "collapsed": false
   },
   "outputs": [],
   "source": [
    "# make the proxies differ by random amts...\n",
    "np.random.seed(12347)\n",
    "N = 200\n",
    "walk = (np.random.randint(0,200,size=N) - 100) * .25\n",
    "perturb = (np.random.randint(0,20,size=N) - 10) * .25\n",
    "walk = walk.cumsum()\n",
    "\n",
    "rng = pd.date_range(px.index[0], periods=len(px) + N, freq='B')\n",
    "near = np.concatenate([px.values, px.values[-1] + walk])\n",
    "far = np.concatenate([px.values, px.values[-1] + walk + perturb])\n",
    "prices = DataFrame({'ESU2': near, 'ESZ2': far}, index=rng)\n",
    "\n",
    "prices.tail()"
   ]
  },
  {
   "cell_type": "code",
   "execution_count": 53,
   "metadata": {
    "collapsed": false
   },
   "outputs": [
    {
     "data": {
      "text/html": [
       "<div>\n",
       "<table border=\"1\" class=\"dataframe\">\n",
       "  <thead>\n",
       "    <tr style=\"text-align: right;\">\n",
       "      <th></th>\n",
       "      <th>ESU2</th>\n",
       "      <th>ESZ2</th>\n",
       "      <th>EZ2</th>\n",
       "    </tr>\n",
       "  </thead>\n",
       "  <tbody>\n",
       "    <tr>\n",
       "      <th>2012-09-12</th>\n",
       "      <td>1.0</td>\n",
       "      <td>0</td>\n",
       "      <td>NaN</td>\n",
       "    </tr>\n",
       "    <tr>\n",
       "      <th>2012-09-13</th>\n",
       "      <td>1.0</td>\n",
       "      <td>0</td>\n",
       "      <td>0.0</td>\n",
       "    </tr>\n",
       "    <tr>\n",
       "      <th>2012-09-14</th>\n",
       "      <td>0.8</td>\n",
       "      <td>0</td>\n",
       "      <td>0.2</td>\n",
       "    </tr>\n",
       "    <tr>\n",
       "      <th>2012-09-17</th>\n",
       "      <td>0.6</td>\n",
       "      <td>0</td>\n",
       "      <td>0.4</td>\n",
       "    </tr>\n",
       "    <tr>\n",
       "      <th>2012-09-18</th>\n",
       "      <td>0.4</td>\n",
       "      <td>0</td>\n",
       "      <td>0.6</td>\n",
       "    </tr>\n",
       "    <tr>\n",
       "      <th>2012-09-19</th>\n",
       "      <td>0.2</td>\n",
       "      <td>0</td>\n",
       "      <td>0.8</td>\n",
       "    </tr>\n",
       "    <tr>\n",
       "      <th>2012-09-20</th>\n",
       "      <td>0.0</td>\n",
       "      <td>0</td>\n",
       "      <td>1.0</td>\n",
       "    </tr>\n",
       "    <tr>\n",
       "      <th>2012-09-21</th>\n",
       "      <td>0.0</td>\n",
       "      <td>0</td>\n",
       "      <td>1.0</td>\n",
       "    </tr>\n",
       "  </tbody>\n",
       "</table>\n",
       "</div>"
      ],
      "text/plain": [
       "            ESU2  ESZ2  EZ2\n",
       "2012-09-12   1.0     0  NaN\n",
       "2012-09-13   1.0     0  0.0\n",
       "2012-09-14   0.8     0  0.2\n",
       "2012-09-17   0.6     0  0.4\n",
       "2012-09-18   0.4     0  0.6\n",
       "2012-09-19   0.2     0  0.8\n",
       "2012-09-20   0.0     0  1.0\n",
       "2012-09-21   0.0     0  1.0"
      ]
     },
     "execution_count": 53,
     "metadata": {},
     "output_type": "execute_result"
    }
   ],
   "source": [
    "# splice the series by linear-decay weightings:\n",
    "\n",
    "def get_roll_weights(start, expiry, items, roll_periods=5):\n",
    "    dates = pd.date_range(start, expiry[-1], freq='B')\n",
    "    weights = DataFrame(np.zeros((len(dates), len(items))), index=dates, columns=items)\n",
    "\n",
    "    prev_date = weights.index[0]\n",
    "    for i, (item, ex_date) in enumerate(expiry.iteritems()):\n",
    "        if i < len(expiry) - 1:\n",
    "            weights.ix[prev_date:ex_date - pd.offsets.BDay(), item] = 1\n",
    "            roll_rng = pd.date_range(end=ex_date - pd.offsets.BDay(),\n",
    "                                     periods=roll_periods+1, freq='B')\n",
    "            decay_weights = np.linspace(0,1,roll_periods+1)\n",
    "            weights.ix[roll_rng, item] = 1 - decay_weights\n",
    "            weights.ix[roll_rng, expiry.index[i+1]] = decay_weights\n",
    "        else:\n",
    "            weights.ix[prev_date:,item] = 1\n",
    "            \n",
    "        prev_date = ex_date\n",
    "    \n",
    "    return weights\n",
    "\n",
    "weights = get_roll_weights('6/1/2012', expiry, prices.columns)\n",
    "\n",
    "weights.ix['2012-09-12':'2012-09-21']"
   ]
  },
  {
   "cell_type": "code",
   "execution_count": 55,
   "metadata": {
    "collapsed": false
   },
   "outputs": [
    {
     "data": {
      "text/plain": [
       "2015-10-28    0\n",
       "2015-10-29    0\n",
       "2015-10-30    0\n",
       "2015-11-02    0\n",
       "2015-11-03    0\n",
       "dtype: float64"
      ]
     },
     "execution_count": 55,
     "metadata": {},
     "output_type": "execute_result"
    }
   ],
   "source": [
    "rolled_returns = (price.pct_change() * weights).sum(1)\n",
    "rolled_returns.tail()"
   ]
  },
  {
   "cell_type": "markdown",
   "metadata": {},
   "source": [
    "### Rolling Correlation & Linear Regression"
   ]
  },
  {
   "cell_type": "code",
   "execution_count": 56,
   "metadata": {
    "collapsed": false
   },
   "outputs": [
    {
     "data": {
      "text/plain": [
       "<matplotlib.axes._subplots.AxesSubplot at 0x10d2f2810>"
      ]
     },
     "execution_count": 56,
     "metadata": {},
     "output_type": "execute_result"
    },
    {
     "data": {
      "image/png": "[encoded data removed]",
      "text/plain": [
       "<matplotlib.figure.Figure at 0x10d2f2090>"
      ]
     },
     "metadata": {},
     "output_type": "display_data"
    }
   ],
   "source": [
    "aapl = web.get_data_yahoo('AAPL', '2000-01-01')['Adj Close']\n",
    "msft = web.get_data_yahoo('MSFT', '2000-01-01')['Adj Close']\n",
    "\n",
    "appl_rets = aapl.pct_change()\n",
    "msft_rets = msft.pct_change()\n",
    "\n",
    "pd.rolling_corr(appl_rets, msft_rets, 250).plot()"
   ]
  },
  {
   "cell_type": "code",
   "execution_count": 58,
   "metadata": {
    "collapsed": false
   },
   "outputs": [
    {
     "data": {
      "text/plain": [
       "<matplotlib.axes._subplots.AxesSubplot at 0x10d48f690>"
      ]
     },
     "execution_count": 58,
     "metadata": {},
     "output_type": "execute_result"
    },
    {
     "data": {
      "image/png": "[encoded data removed]",
      "text/plain": [
       "<matplotlib.figure.Figure at 0x10d686ad0>"
      ]
     },
     "metadata": {},
     "output_type": "display_data"
    }
   ],
   "source": [
    "model = pd.ols(y=appl_rets, x={'MSFT': msft_rets}, window=250)\n",
    "model.beta['MSFT'].plot()"
   ]
  }
 ],
 "metadata": {
  "kernelspec": {
   "display_name": "Python 2",
   "language": "python",
   "name": "python2"
  },
  "language_info": {
   "codemirror_mode": {
    "name": "ipython",
    "version": 2
   },
   "file_extension": ".py",
   "mimetype": "text/x-python",
   "name": "python",
   "nbconvert_exporter": "python",
   "pygments_lexer": "ipython2",
   "version": "2.7.10"
  }
 },
 "nbformat": 4,
 "nbformat_minor": 0
}
